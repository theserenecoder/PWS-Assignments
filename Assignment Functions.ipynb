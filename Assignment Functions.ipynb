{
 "cells": [
  {
   "cell_type": "markdown",
   "id": "71b7eae4",
   "metadata": {},
   "source": [
    "Q1. Which keyword is used to create a function? Create a function to return a list of odd numbers in the\n",
    "range of 1 to 25.\n",
    "\n",
    "Ans. We use **def** keyword to define a function."
   ]
  },
  {
   "cell_type": "code",
   "execution_count": 2,
   "id": "f873d3be",
   "metadata": {},
   "outputs": [
    {
     "data": {
      "text/plain": [
       "[1, 3, 5, 7, 9, 11, 13, 15, 17, 19, 21, 23, 25]"
      ]
     },
     "execution_count": 2,
     "metadata": {},
     "output_type": "execute_result"
    }
   ],
   "source": [
    "def odd():\n",
    "    '''This function will return a list of odd numbers'''\n",
    "    return [i for i in range(1,26) if i%2 != 0]\n",
    "\n",
    "odd()"
   ]
  },
  {
   "cell_type": "markdown",
   "id": "39ff6df7",
   "metadata": {},
   "source": [
    "Q2. Why \\*args and \\**kwargs is used in some functions? Create a function each for \\*args and \\**kwargs\n",
    "to demonstrate their use.\n",
    "\n",
    "Ans. \\*args can take multiple arguments in a function without initially defining number of arguments and will return a tuple.\n",
    "\n",
    "\\**kwargs can also take multiple keyword arguments in a function without initially defining number of arguments and will return a dictionary."
   ]
  },
  {
   "cell_type": "code",
   "execution_count": 6,
   "id": "8dac33bc",
   "metadata": {},
   "outputs": [
    {
     "data": {
      "text/plain": [
       "21"
      ]
     },
     "execution_count": 6,
     "metadata": {},
     "output_type": "execute_result"
    }
   ],
   "source": [
    "def sumofnum(*args):\n",
    "    '''this function will return the sum of arguments pass to this function'''\n",
    "    return sum(args)\n",
    "sumofnum(1,2,3,4,5,6)"
   ]
  },
  {
   "cell_type": "code",
   "execution_count": 7,
   "id": "dff35b0c",
   "metadata": {},
   "outputs": [
    {
     "data": {
      "text/plain": [
       "{'a': 1, 'b': 2, 'c': 3, 'd': 4}"
      ]
     },
     "execution_count": 7,
     "metadata": {},
     "output_type": "execute_result"
    }
   ],
   "source": [
    "def dictionary(**kwar):\n",
    "    '''this function returns a dictionary'''\n",
    "    return kwar\n",
    "\n",
    "dictionary(a=1,b=2,c=3,d=4)"
   ]
  },
  {
   "cell_type": "markdown",
   "id": "b27e19e6",
   "metadata": {},
   "source": [
    "Q3. What is an iterator in python? Name the method used to initialise the iterator object and the method\n",
    "used for iteration. Use these methods to print the first five elements of the given list [2, 4, 6, 8, 10, 12, 14,\n",
    "16, 18, 20].\n",
    "\n",
    "Ans. Iterator is an object on which we can iterate upon, it gives access to each element in an iterable object. We uses iter() method upon an iterable object and next() method to iterate over than object."
   ]
  },
  {
   "cell_type": "code",
   "execution_count": 14,
   "id": "a7f90d33",
   "metadata": {},
   "outputs": [
    {
     "name": "stdout",
     "output_type": "stream",
     "text": [
      "2\n",
      "4\n",
      "6\n",
      "8\n",
      "10\n"
     ]
    }
   ],
   "source": [
    "my_list = [2, 4, 6, 8, 10, 12, 14, 16, 18, 20]\n",
    "my_iter = iter(my_list)\n",
    "\n",
    "for i in range(5):\n",
    "    print(next(my_iter))"
   ]
  },
  {
   "cell_type": "markdown",
   "id": "f3e44101",
   "metadata": {},
   "source": [
    "Q4. What is a generator function in python? Why yield keyword is used? Give an example of a generator\n",
    "function."
   ]
  },
  {
   "cell_type": "markdown",
   "id": "188884cd",
   "metadata": {},
   "source": [
    "Ans. Generator function is a function which returns an iterator and uses yield statement instead of return in generator function. Yield statement suspends the execution of a function and returns a value at a time but also keeps enough information to retrieve back the execution from where it left when the function resumes."
   ]
  },
  {
   "cell_type": "code",
   "execution_count": 40,
   "id": "f3f86c2b",
   "metadata": {},
   "outputs": [],
   "source": [
    "# generator function\n",
    "\n",
    "def prime(num):\n",
    "    '''this function returns an iterator of prime numbers'''\n",
    "    for i in range(2,num+1):\n",
    "        if i==2 or i==3:\n",
    "            yield i\n",
    "        else:\n",
    "            for j in range(2,i//2 + 1):\n",
    "                if i%j==0:\n",
    "                    break\n",
    "            else:\n",
    "                yield i"
   ]
  },
  {
   "cell_type": "code",
   "execution_count": 41,
   "id": "0506e734",
   "metadata": {},
   "outputs": [
    {
     "name": "stdout",
     "output_type": "stream",
     "text": [
      "Enter a number to generate prime number series 15\n",
      "[2, 3, 5, 7, 11, 13]\n"
     ]
    }
   ],
   "source": [
    "n = int(input(\"Enter a number to generate prime number series \"))\n",
    "p = [i for i in prime(n)]\n",
    "print(p)\n"
   ]
  },
  {
   "cell_type": "markdown",
   "id": "052929c7",
   "metadata": {},
   "source": [
    "Q5. Create a generator function for prime numbers less than 1000. Use the next() method to print the\n",
    "first 20 prime numbers."
   ]
  },
  {
   "cell_type": "code",
   "execution_count": 42,
   "id": "db37f209",
   "metadata": {},
   "outputs": [
    {
     "name": "stdout",
     "output_type": "stream",
     "text": [
      "2\n",
      "3\n",
      "5\n",
      "7\n",
      "11\n",
      "13\n",
      "17\n",
      "19\n",
      "23\n",
      "29\n",
      "31\n",
      "37\n",
      "41\n",
      "43\n",
      "47\n",
      "53\n",
      "59\n",
      "61\n",
      "67\n",
      "71\n"
     ]
    }
   ],
   "source": [
    "def prime2():\n",
    "    for i in range(2,1001):\n",
    "        if i==2 or i==3:\n",
    "            yield i\n",
    "        else :\n",
    "            for j in range(2,i//2 +1):\n",
    "                if i%j==0:\n",
    "                    break\n",
    "            else:\n",
    "                yield i\n",
    "p = prime2()\n",
    "\n",
    "for i in range(20):\n",
    "    print(next(p))"
   ]
  },
  {
   "cell_type": "markdown",
   "id": "a90e3681",
   "metadata": {},
   "source": [
    "Q6. Write a python program to print the first 10 Fibonacci numbers using a while loop."
   ]
  },
  {
   "cell_type": "code",
   "execution_count": 49,
   "id": "d4e12fcf",
   "metadata": {},
   "outputs": [
    {
     "name": "stdout",
     "output_type": "stream",
     "text": [
      "0\n",
      "1\n",
      "1\n",
      "2\n",
      "3\n",
      "5\n",
      "8\n",
      "13\n",
      "21\n",
      "34\n"
     ]
    }
   ],
   "source": [
    "def fibonacci():\n",
    "    '''this function will print the first 10 Fibonacci numbers'''\n",
    "    a,b = 0,1\n",
    "    while True:\n",
    "        yield a\n",
    "        a,b = b,a+b\n",
    "\n",
    "f = fibonacci()\n",
    "\n",
    "for i in range(10):\n",
    "    print(next(f))"
   ]
  },
  {
   "cell_type": "markdown",
   "id": "b9637454",
   "metadata": {},
   "source": [
    "Q7. Write a List Comprehension to iterate through the given string: ‘pwskills’.\n",
    "\n",
    "Expected output: ['p', 'w', 's', 'k', 'i', 'l', 'l', 's']"
   ]
  },
  {
   "cell_type": "code",
   "execution_count": 55,
   "id": "4713516d",
   "metadata": {},
   "outputs": [
    {
     "name": "stdout",
     "output_type": "stream",
     "text": [
      "['p', 'w', 's', 'k', 'i', 'l', 'l', 's']\n"
     ]
    }
   ],
   "source": [
    "string = \"pwskills\"\n",
    "\n",
    "string_list = [i for i in string]\n",
    "print(string_list)"
   ]
  },
  {
   "cell_type": "markdown",
   "id": "f48fe0a8",
   "metadata": {},
   "source": [
    "Q8. Write a python program to check whether a given number is Palindrome or not using a while loop."
   ]
  },
  {
   "cell_type": "code",
   "execution_count": 58,
   "id": "4c02a114",
   "metadata": {},
   "outputs": [],
   "source": [
    "def palindrome(num):\n",
    "    \"\"\"this function will check if a given number is a palindrome\"\"\"\n",
    "    s = str(num)\n",
    "    s = int(s[::-1])\n",
    "    if s == num:\n",
    "        return \"{} is a Palindrome\".format(num)\n",
    "    else:\n",
    "        return \"{} is not a Palindrome\".format(num)\n",
    "    "
   ]
  },
  {
   "cell_type": "code",
   "execution_count": 71,
   "id": "62451792",
   "metadata": {},
   "outputs": [
    {
     "name": "stdout",
     "output_type": "stream",
     "text": [
      "0 is a Palindrome\n",
      "1 is a Palindrome\n",
      "2 is a Palindrome\n",
      "3 is a Palindrome\n",
      "4 is a Palindrome\n",
      "5 is a Palindrome\n",
      "6 is a Palindrome\n",
      "7 is a Palindrome\n",
      "8 is a Palindrome\n",
      "9 is a Palindrome\n",
      "10 is not a Palindrome\n",
      "11 is a Palindrome\n",
      "12 is not a Palindrome\n",
      "13 is not a Palindrome\n",
      "14 is not a Palindrome\n",
      "15 is not a Palindrome\n",
      "16 is not a Palindrome\n",
      "17 is not a Palindrome\n",
      "18 is not a Palindrome\n",
      "19 is not a Palindrome\n"
     ]
    }
   ],
   "source": [
    "for i in range(20):\n",
    "    print(palindrome(i))"
   ]
  },
  {
   "cell_type": "markdown",
   "id": "fc32233e",
   "metadata": {},
   "source": [
    "Q9. Write a code to print odd numbers from 1 to 100 using list comprehension."
   ]
  },
  {
   "cell_type": "code",
   "execution_count": 74,
   "id": "fdf97c0e",
   "metadata": {},
   "outputs": [
    {
     "name": "stdout",
     "output_type": "stream",
     "text": [
      "[1, 3, 5, 7, 9, 11, 13, 15, 17, 19, 21, 23, 25, 27, 29, 31, 33, 35, 37, 39, 41, 43, 45, 47, 49, 51, 53, 55, 57, 59, 61, 63, 65, 67, 69, 71, 73, 75, 77, 79, 81, 83, 85, 87, 89, 91, 93, 95, 97, 99]\n"
     ]
    }
   ],
   "source": [
    "def odd(num):\n",
    "    \"\"\"this function will return odd numbers from 1 to 100\"\"\"\n",
    "    list1 = [i for i in range(1,num+1)]\n",
    "    list2 = [i for i in list1 if i%2 !=0]\n",
    "    return list2\n",
    "\n",
    "print(odd(100))"
   ]
  }
 ],
 "metadata": {
  "kernelspec": {
   "display_name": "Python 3 (ipykernel)",
   "language": "python",
   "name": "python3"
  },
  "language_info": {
   "codemirror_mode": {
    "name": "ipython",
    "version": 3
   },
   "file_extension": ".py",
   "mimetype": "text/x-python",
   "name": "python",
   "nbconvert_exporter": "python",
   "pygments_lexer": "ipython3",
   "version": "3.9.12"
  }
 },
 "nbformat": 4,
 "nbformat_minor": 5
}

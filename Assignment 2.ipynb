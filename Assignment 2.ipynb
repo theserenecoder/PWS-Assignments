{
 "cells": [
  {
   "cell_type": "markdown",
   "id": "369ba8d6-3969-437b-af06-9a87d340ae37",
   "metadata": {},
   "source": [
    "1. Write a program to accept percentage from the user and display the grade according to the following criteria:"
   ]
  },
  {
   "cell_type": "code",
   "execution_count": 6,
   "id": "ec63d827-7d88-4c0a-9b27-aecc1725732d",
   "metadata": {},
   "outputs": [],
   "source": [
    "def marks(num):\n",
    "    # function to convert percentage into grades\n",
    "    \n",
    "    if num<60:\n",
    "        return \"D\"\n",
    "    elif num>=60 and num<=80:\n",
    "        return 'C'\n",
    "    elif num >80 and num<=90:\n",
    "        return 'B'\n",
    "    else:\n",
    "        return 'A'\n"
   ]
  },
  {
   "cell_type": "code",
   "execution_count": 9,
   "id": "1f50191b-7cbe-40ff-9f07-49f6e5e51ef2",
   "metadata": {},
   "outputs": [
    {
     "name": "stdin",
     "output_type": "stream",
     "text": [
      "Enter your percentage:  -10\n"
     ]
    },
    {
     "data": {
      "text/plain": [
       "'D'"
      ]
     },
     "execution_count": 9,
     "metadata": {},
     "output_type": "execute_result"
    }
   ],
   "source": [
    "# taking user input\n",
    "number = int(input(\"Enter your percentage: \"))\n",
    "\n",
    "# calling marks function\n",
    "marks(number)"
   ]
  },
  {
   "cell_type": "markdown",
   "id": "c3f87483-aafe-473e-b56c-38a75449d5bb",
   "metadata": {},
   "source": [
    "2. Write a program to accept the cost price of a bike and display the road tax to be paid according to the following criteria"
   ]
  },
  {
   "cell_type": "code",
   "execution_count": 10,
   "id": "80fc6238-2165-4ead-9902-e96e6815e096",
   "metadata": {},
   "outputs": [],
   "source": [
    "def tax(cp):\n",
    "    # function accpets cost price and return tax according to the slabs defined\n",
    "    \n",
    "    if cp<=50000:\n",
    "        return (cp*5)/100\n",
    "    elif cp>50000 and cp<=100000:\n",
    "        return (cp*10)/100\n",
    "    else:\n",
    "        return (cp*15)/100"
   ]
  },
  {
   "cell_type": "code",
   "execution_count": 15,
   "id": "a2370ad3-db31-4214-81b5-7c98ab335d78",
   "metadata": {},
   "outputs": [
    {
     "name": "stdin",
     "output_type": "stream",
     "text": [
      "Enter the cost price of the bike:  100000\n"
     ]
    },
    {
     "data": {
      "text/plain": [
       "10000.0"
      ]
     },
     "execution_count": 15,
     "metadata": {},
     "output_type": "execute_result"
    }
   ],
   "source": [
    "cost_price = int(input(\"Enter the cost price of the bike: \"))\n",
    "tax(cost_price)"
   ]
  },
  {
   "cell_type": "markdown",
   "id": "b73a6471-1cfc-4107-b3e7-b7cc5c6490dd",
   "metadata": {},
   "source": [
    "3.  Accept any city from the user and display monuments of that city."
   ]
  },
  {
   "cell_type": "code",
   "execution_count": 4,
   "id": "470a438f-dde7-46e9-8701-3c9c292802aa",
   "metadata": {},
   "outputs": [
    {
     "name": "stdin",
     "output_type": "stream",
     "text": [
      "Enter any one city out of Delhi, Agra and Jaipur to see the monuments associated:  Delhi\n"
     ]
    },
    {
     "name": "stdout",
     "output_type": "stream",
     "text": [
      "Delhi has Red Fort\n"
     ]
    }
   ],
   "source": [
    "monuments = {\"Delhi\":\"Red Fort\", \"Agra\":\"Taj Mahal\", \"Jaipur\":\"Jal Mahal\"}\n",
    "city = input(\"Enter any one city out of Delhi, Agra and Jaipur to see the monuments associated: \")\n",
    "print(\"{0} has {1}\".format(city,monuments[city]))"
   ]
  },
  {
   "cell_type": "markdown",
   "id": "ab4c434f-123b-4168-a64c-a75d0f3628d7",
   "metadata": {},
   "source": [
    "4. Check how many times a given number can be divided by 3 before it is less than or equal to 10."
   ]
  },
  {
   "cell_type": "code",
   "execution_count": 13,
   "id": "e7f853af-969f-4b6b-b41a-7c28a0a21601",
   "metadata": {},
   "outputs": [
    {
     "name": "stdin",
     "output_type": "stream",
     "text": [
      "Enter a number 729\n"
     ]
    },
    {
     "name": "stdout",
     "output_type": "stream",
     "text": [
      "729 can be divided 4 times by 3\n"
     ]
    }
   ],
   "source": [
    "num = int(input(\"Enter a number\"))\n",
    "i = 0\n",
    "j = num\n",
    "while j>10 and j%3==0:\n",
    "    j = j/3\n",
    "    i = i+1\n",
    "\n",
    "print(\"{} can be divided {} times by 3\".format(num,i))    \n"
   ]
  },
  {
   "cell_type": "markdown",
   "id": "14157a7e-4ada-41fa-987c-c152fdcdf3b0",
   "metadata": {},
   "source": [
    "5. Why and when to use while loop in python give a detailed description with an example."
   ]
  },
  {
   "cell_type": "markdown",
   "id": "0d110cd4-e9d9-4cc7-a641-9d64a054bea2",
   "metadata": {},
   "source": [
    "We use while loop when we are not sure how many iterations to run for a given loop or if we want a loop to break on a specific condition.\n",
    "\n",
    "For example:\n",
    "In question 4 we are breaking the loop when a number which is divisible by 3 gets equal to or less than 10. This scenario will have different number of iterations for different numbers and therefore it is favorable to use while loop."
   ]
  },
  {
   "cell_type": "markdown",
   "id": "a82cf45f-31ec-4d80-8b9a-56e76b593ccb",
   "metadata": {},
   "source": [
    "6. Use nested while loop to print 3 different patterns."
   ]
  },
  {
   "cell_type": "code",
   "execution_count": 1,
   "id": "68dce4d9-d5ed-409d-9cab-e70c6c6cf2dc",
   "metadata": {},
   "outputs": [
    {
     "name": "stdout",
     "output_type": "stream",
     "text": [
      "* \n",
      "\n",
      "* * \n",
      "\n",
      "* * * \n",
      "\n",
      "* * * * \n",
      "\n",
      "* * * * * \n",
      "\n"
     ]
    }
   ],
   "source": [
    "i=0\n",
    "while i<5:\n",
    "    j=0\n",
    "    while j<=i:\n",
    "        print('*', end = \" \")\n",
    "        j = j+1\n",
    "    print(\"\\n\")\n",
    "    i = i+1\n"
   ]
  },
  {
   "cell_type": "code",
   "execution_count": 24,
   "id": "7e3e44ff-9d7b-4577-bb7a-de8a5f00bd9f",
   "metadata": {},
   "outputs": [
    {
     "name": "stdout",
     "output_type": "stream",
     "text": [
      "      * \n",
      "\n",
      "    * * * \n",
      "\n",
      "  * * * * * \n",
      "\n",
      "* * * * * * * \n",
      "\n"
     ]
    }
   ],
   "source": [
    "i=1\n",
    "while i<=7:\n",
    "    j=1\n",
    "    k=5\n",
    "    while k >=i:\n",
    "        print(\" \", end=\" \")\n",
    "        k = k-2\n",
    "    while j<=i:\n",
    "        print('*', end = \" \")\n",
    "        j = j+1\n",
    "    print(\"\\n\")\n",
    "    i = i+2"
   ]
  },
  {
   "cell_type": "code",
   "execution_count": 18,
   "id": "139b83bd-15e6-4b02-9947-871868f27763",
   "metadata": {},
   "outputs": [
    {
     "name": "stdout",
     "output_type": "stream",
     "text": [
      "* * * * * \n",
      "\n",
      "* * * * \n",
      "\n",
      "* * * \n",
      "\n",
      "* * \n",
      "\n",
      "* \n",
      "\n"
     ]
    }
   ],
   "source": [
    "i=1\n",
    "while i<=5:\n",
    "    j=5\n",
    "    while j>=i:\n",
    "        print('*', end = \" \")\n",
    "        j = j-1\n",
    "    print(\"\\n\")\n",
    "    i = i+1"
   ]
  },
  {
   "cell_type": "markdown",
   "id": "84a1e403-ec22-48fc-a55a-e520b26f3c7d",
   "metadata": {},
   "source": [
    "7 & 8. Reverse a while loop to display number from 10 to 1."
   ]
  },
  {
   "cell_type": "code",
   "execution_count": 9,
   "id": "36694b1f-376d-40bb-9243-a6d209478e78",
   "metadata": {},
   "outputs": [
    {
     "name": "stdout",
     "output_type": "stream",
     "text": [
      "10\n",
      "9\n",
      "8\n",
      "7\n",
      "6\n",
      "5\n",
      "4\n",
      "3\n",
      "2\n",
      "1\n"
     ]
    }
   ],
   "source": [
    "i = 10\n",
    "while i>=1:\n",
    "    print(i)\n",
    "    i -= 1"
   ]
  }
 ],
 "metadata": {
  "kernelspec": {
   "display_name": "Python 3 (ipykernel)",
   "language": "python",
   "name": "python3"
  },
  "language_info": {
   "codemirror_mode": {
    "name": "ipython",
    "version": 3
   },
   "file_extension": ".py",
   "mimetype": "text/x-python",
   "name": "python",
   "nbconvert_exporter": "python",
   "pygments_lexer": "ipython3",
   "version": "3.10.8"
  }
 },
 "nbformat": 4,
 "nbformat_minor": 5
}

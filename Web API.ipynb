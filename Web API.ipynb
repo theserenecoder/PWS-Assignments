{
 "cells": [
  {
   "cell_type": "markdown",
   "id": "383315c1",
   "metadata": {},
   "source": [
    "Q1. What is an API? Give an example, where an API is used in real life.\n",
    "\n",
    "Ans API is Application Programming Interface, a way to share data and services between multiple systems/platforms. When ever we make a payment or watch a youtube video, it uses some API's."
   ]
  },
  {
   "cell_type": "markdown",
   "id": "de7f32a1",
   "metadata": {},
   "source": [
    "Q2. Give advantages and disadvantages of using API.\n",
    "\n",
    "Ans. It makes information and services platform independent, it makes systems to communicate with each other easily and provides a standardized way for applications to interact. It makes development process efficient and scalable.\n",
    "\n",
    "On the other hand it comes with security concerns, it makes dependency on third party services. Use of external APIs have limited control on performance or changes to the APIs."
   ]
  },
  {
   "cell_type": "markdown",
   "id": "97a992bc",
   "metadata": {},
   "source": [
    "Q3. What is a Web API? Differentiate between API and Web API.\n",
    "\n",
    "Ans. It is a set of rules that allows different systems/platform to communicate with each other over the internet.\n",
    "\n",
    "APIs can be used for communication within the single application, different application on the same device or across network. Whereas Web APIs are specifically refer to the APIs are desined to be used over the internet using HTTP protocol."
   ]
  },
  {
   "cell_type": "markdown",
   "id": "3ec8f08a",
   "metadata": {},
   "source": [
    "Q4. Explain REST and SOAP Architecture. Mention shortcomings of SOAP.\n",
    "\n",
    "__REST__ : REST stands for Representational State Transfer, which is a set of principle for building web services which uses HTTP protocol.\n",
    "\n",
    "- It follows client-server architecture.\n",
    "- RESTful services are stateless and are cacheable\n",
    "- It uses standard HTTP methods like GET, POST, PUT and DELETE for data manipulation.\n",
    "\n",
    "__SOAP__ : SOAP stands for Simple Object Access Protocl which is used for building web services.\n",
    "\n",
    "- It is a protocol for exchanging structured information between networked systems using XML.\n",
    "- It relies on XML for message formatting and can use various transport portocols such as HTTP, SMTP, or others.\n",
    "- It uses WSDL (Web Services Description Language) to write instructions.\n",
    "\n",
    "__Shortcomings of SOAP__\n",
    "- SOAP messages are more complex than RESTful representations and require additional parsing and processing.\n",
    "- SOAP is mainly used for server-to-server communication and has limited browser support\n"
   ]
  },
  {
   "cell_type": "markdown",
   "id": "67a27d6f",
   "metadata": {},
   "source": [
    "Q5. Differentiate between REST and SOAP.\n",
    "\n",
    "- REST is web based API which uses HTTP protocol whereas SOAP is XML based messaging protocol and supports TCP/IP, SMTP and HTTP protocol.\n",
    "- REST used HTTP methods like PUT, GET, POST, DELETE whereas SOAP uses WSDL to write insructions.\n",
    "- REST is less complex in comparision to SOAP APIs\n",
    "- SOAP APIs are more secure in comparision to REST APIs."
   ]
  }
 ],
 "metadata": {
  "kernelspec": {
   "display_name": "Python 3 (ipykernel)",
   "language": "python",
   "name": "python3"
  },
  "language_info": {
   "codemirror_mode": {
    "name": "ipython",
    "version": 3
   },
   "file_extension": ".py",
   "mimetype": "text/x-python",
   "name": "python",
   "nbconvert_exporter": "python",
   "pygments_lexer": "ipython3",
   "version": "3.9.12"
  }
 },
 "nbformat": 4,
 "nbformat_minor": 5
}

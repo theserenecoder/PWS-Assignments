{
 "cells": [
  {
   "cell_type": "markdown",
   "id": "14e6d855",
   "metadata": {},
   "source": [
    "Q1. What is a database? Differentiate between SQL and NoSQL databases.\n",
    "\n",
    "Ans. Database is a structured collection of data which is stored in rows, columns and indexed so that it can be retrieve information effectively. \n",
    "\n",
    "SQL database stores the data in a structured tablular format, means it stores the data in rows and colums, whereas NoSQL database stores the data in documents and there is no specific restriction which is applied. \n"
   ]
  },
  {
   "cell_type": "markdown",
   "id": "34fe0926",
   "metadata": {},
   "source": [
    "Q2. What is DDL? Explain why CREATE, DROP, ALTER, and TRUNCATE are used with an example.\n",
    "\n",
    "Ans. DDL is Data Defination Language, which is a syntax used for creating and altering database objects such as tables, indices and users.\n",
    "\n",
    "- CREATE : This command is used for creating database and tables."
   ]
  },
  {
   "cell_type": "code",
   "execution_count": 1,
   "id": "67d89592",
   "metadata": {},
   "outputs": [],
   "source": [
    "import mysql.connector as connection\n",
    "import logging"
   ]
  },
  {
   "cell_type": "code",
   "execution_count": 2,
   "id": "72c03c1f",
   "metadata": {},
   "outputs": [],
   "source": [
    "def database_connection():\n",
    "    \n",
    "    global mydb \n",
    "    mydb = connection.connect(\n",
    "        host = 'localhost',\n",
    "        username = 'root',\n",
    "        password = '123'\n",
    "    )\n",
    "    \n",
    "    return mydb"
   ]
  },
  {
   "cell_type": "code",
   "execution_count": 3,
   "id": "4d17bd23",
   "metadata": {},
   "outputs": [],
   "source": [
    "try:\n",
    "    \n",
    "    logging.basicConfig(\n",
    "        filename = \"SQLAssignment\",\n",
    "        filemode = 'a',\n",
    "        level = logging.INFO,\n",
    "        format = '%(asctime)s %(name)s %(levelname)s %(message)s'\n",
    "    )\n",
    "    \n",
    "    mydb = database_connection()\n",
    "    mycursor = mydb.cursor()\n",
    "\n",
    "    mycursor.execute(\n",
    "        \"CREATE Database if not exists User_Detail\"\n",
    "    )\n",
    "    \n",
    "    mycursor.execute(\n",
    "        \"\"\"Create table if not exists User_Detail.Personal_Detail(\n",
    "        firstname varchar(45),\n",
    "        lastname varchar(45),\n",
    "        age int,\n",
    "        email varchar(45),\n",
    "        city varchar(45)\n",
    "        )\"\"\"\n",
    "    )\n",
    "    mycursor.execute(\n",
    "        \"Show tables from User_Detail\"\n",
    "    )\n",
    "    \n",
    "    for i in mycursor:\n",
    "        logging.info(i)\n",
    "    \n",
    "except Exception as e:\n",
    "    logging.error(e)\n",
    "    \n",
    "finally:\n",
    "    mydb.close()\n",
    "    logging.shutdown()"
   ]
  },
  {
   "cell_type": "markdown",
   "id": "51ce4bcd",
   "metadata": {},
   "source": [
    "- DROP : it is used for dropping a table or database"
   ]
  },
  {
   "cell_type": "code",
   "execution_count": 4,
   "id": "fb6f930c",
   "metadata": {},
   "outputs": [],
   "source": [
    "try:\n",
    "    \n",
    "    mydb = database_connection()\n",
    "    mycursor = mydb.cursor()\n",
    "    \n",
    "    # creating a new database project details\n",
    "    mycursor.execute(\n",
    "        \"CREATE Database if not exists Project_Details\"\n",
    "    )\n",
    "    \n",
    "    mycursor.execute(\n",
    "        \"SHOW Databases\"\n",
    "    )\n",
    "    for i in mycursor:\n",
    "        logging.info(i)\n",
    "    \n",
    "    # removing the database project details\n",
    "    mycursor.execute(\n",
    "        \"Drop Database Project_Details\"\n",
    "    )\n",
    "    \n",
    "    mycursor.execute(\n",
    "        \"SHOW Databases\"\n",
    "    )\n",
    "    for i in mycursor:\n",
    "        logging.info(i)\n",
    "    \n",
    "\n",
    "except Exception as e:\n",
    "    logging.error(e)\n",
    "    \n",
    "finally:\n",
    "    mydb.close()\n",
    "    logging.shutdown()"
   ]
  },
  {
   "cell_type": "markdown",
   "id": "62ea1f81",
   "metadata": {},
   "source": [
    "- ALTER : this statement is used for making changes in existing tables."
   ]
  },
  {
   "cell_type": "code",
   "execution_count": 5,
   "id": "69c52def",
   "metadata": {},
   "outputs": [],
   "source": [
    "try:\n",
    "    mydb = database_connection()\n",
    "    mycursor = mydb.cursor()\n",
    "    \n",
    "    mycursor.execute(\n",
    "        \"\"\"\n",
    "        SHOW columns from User_Detail.Personal_Detail\n",
    "        \"\"\"\n",
    "    )\n",
    "    \n",
    "    for i in mycursor:\n",
    "        logging.info(i)\n",
    "        \n",
    "    mycursor.execute(\n",
    "        \"ALTER table User_Detail.Personal_Detail rename column email to email_add\"\n",
    "    )\n",
    "    \n",
    "    mycursor.execute(\n",
    "        \"\"\"\n",
    "        SHOW columns from User_Detail.Personal_Detail\n",
    "        \"\"\"\n",
    "    )\n",
    "    \n",
    "    for i in mycursor:\n",
    "        logging.info(i)\n",
    "        \n",
    "except Exception as e:\n",
    "    logging.error(e)\n",
    "    \n",
    "finally:\n",
    "    mydb.close()\n",
    "    logging.shutdown()"
   ]
  },
  {
   "cell_type": "markdown",
   "id": "b36b8b28",
   "metadata": {},
   "source": [
    "- TRUNCATE : it removes all the rows from table."
   ]
  },
  {
   "cell_type": "code",
   "execution_count": 7,
   "id": "b4b5eb8f",
   "metadata": {},
   "outputs": [],
   "source": [
    "try:\n",
    "    mydb = database_connection()\n",
    "    mycursor = mydb.cursor()\n",
    "    \n",
    "    # inserting data in table and then removing it\n",
    "    mycursor.execute(\n",
    "        \"\"\"\n",
    "        INSERT into user_detail.personal_detail()\n",
    "        values \n",
    "        ('Ashutosh','Sharma',22,'ashutosh@gmail.com','Vancover'),\n",
    "        ('Daksh','Sethi',21, 'daksh@gmail.com','Kelowna')\n",
    "        \"\"\"\n",
    "    )\n",
    "    mydb.commit()\n",
    "    mycursor.execute(\n",
    "        \"SELECT * from user_detail.personal_detail\"\n",
    "    )\n",
    "    \n",
    "    for i in mycursor:\n",
    "        logging.info(i)\n",
    "        \n",
    "    mycursor.execute(\" truncate table user_detail.personal_detail\")\n",
    "    mycursor.execute(\n",
    "        \"SELECT * from user_detail.personal_detail\"\n",
    "    )\n",
    "    \n",
    "    for i in mycursor:\n",
    "        logging.info(i)\n",
    "        \n",
    "except Exception as e:\n",
    "    logging.info(e)\n",
    "    \n",
    "finally:\n",
    "    mydb.close()\n",
    "    logging.shutdown()"
   ]
  },
  {
   "cell_type": "markdown",
   "id": "ca2faa4c",
   "metadata": {},
   "source": [
    "Q2. What is DML? Explain INSERT, UPDATE, and DELETE with an example.\n",
    "\n",
    "Ans. DML is Data Manipulation Language, which is used for inserting and modifying the data in the data tables.\n",
    "\n",
    "- INSERT : it is used for inserting data into tables manually."
   ]
  },
  {
   "cell_type": "code",
   "execution_count": 8,
   "id": "0c8cd3f8",
   "metadata": {},
   "outputs": [],
   "source": [
    "try:\n",
    "    mydb = database_connection()\n",
    "    mycursor = mydb.cursor()\n",
    "    \n",
    "    mycursor.execute(\n",
    "        \"\"\"\n",
    "        INSERT into user_detail.personal_detail()\n",
    "        values \n",
    "        ('Ashutosh','Sharma',22,'ashutosh@gmail.com','Vancover'),\n",
    "        ('Daksh','Sethi',21, 'daksh@gmail.com','Kelowna')\n",
    "        \"\"\"\n",
    "    )\n",
    "    mydb.commit()\n",
    "    mycursor.execute(\n",
    "        \"SELECT * from user_detail.personal_detail\"\n",
    "    )\n",
    "    \n",
    "    for i in mycursor:\n",
    "        logging.info(i)\n",
    "\n",
    "except Exception as e:\n",
    "    logging.error(e)\n",
    "    \n",
    "finally:\n",
    "    mydb.close()\n",
    "    logging.shutdown()"
   ]
  },
  {
   "cell_type": "markdown",
   "id": "ea5c3886",
   "metadata": {},
   "source": [
    "- UPDATE : it is used for updating the existing data in our tables."
   ]
  },
  {
   "cell_type": "code",
   "execution_count": 9,
   "id": "febc2761",
   "metadata": {},
   "outputs": [],
   "source": [
    "try:\n",
    "    mydb = database_connection()\n",
    "    mycursor = mydb.cursor()\n",
    "    \n",
    "    mycursor.execute(\n",
    "        \"\"\"\n",
    "        update user_detail.personal_detail\n",
    "        set city = 'Kelowna'\n",
    "        where firstname = 'Ashutosh'\n",
    "        \"\"\"\n",
    "    )\n",
    "    mydb.commit()\n",
    "    mycursor.execute(\n",
    "        \"\"\"\n",
    "        select * from user_detail.personal_detail\n",
    "        where firstname = 'Ashutosh'\n",
    "        \"\"\"\n",
    "    )\n",
    "    \n",
    "    for i in mycursor:\n",
    "        logging.info(i)\n",
    "\n",
    "except Exception as e:\n",
    "    logging.error(e)\n",
    "    \n",
    "finally:\n",
    "    mydb.close()\n",
    "    logging.shutdown()"
   ]
  },
  {
   "cell_type": "markdown",
   "id": "aec73612",
   "metadata": {},
   "source": [
    "- DELETE : it is used for deleting existing record from the system."
   ]
  },
  {
   "cell_type": "code",
   "execution_count": 10,
   "id": "80641227",
   "metadata": {},
   "outputs": [],
   "source": [
    "try:\n",
    "    mydb = database_connection()\n",
    "    mycursor = mydb.cursor()\n",
    "    \n",
    "    mycursor.execute(\n",
    "        \"\"\"\n",
    "        delete from user_detail.personal_detail\n",
    "        where firstname = 'Daksh'\n",
    "        \"\"\"\n",
    "    )\n",
    "    mydb.commit()\n",
    "    mycursor.execute(\n",
    "        \"\"\"\n",
    "        select * from user_detail.personal_detail\n",
    "        \"\"\"\n",
    "    )\n",
    "    for i in mycursor:\n",
    "        logging.info(i)\n",
    "        \n",
    "except Exception as e:\n",
    "    logging.error(e)\n",
    "    \n",
    "finally:\n",
    "    mydb.close()\n",
    "    logging.shutdown()"
   ]
  },
  {
   "cell_type": "markdown",
   "id": "217a703e",
   "metadata": {},
   "source": [
    "Q4. What is DQL? Explain SELECT with an example.\n",
    "\n",
    "Ans. DQL is data query language, which is used for performing queries on the data in schema. SELECT command is used for quering which gets the data from the database according to our requirement."
   ]
  },
  {
   "cell_type": "code",
   "execution_count": 11,
   "id": "f9e5f2e8",
   "metadata": {},
   "outputs": [],
   "source": [
    "try:\n",
    "    mydb = database_connection()\n",
    "    mycursor = mydb.cursor()\n",
    "    \n",
    "    # to display data with all columns in table personal detail.\n",
    "    mycursor.execute(\n",
    "        \"select * from user_detail.personal_detail\"\n",
    "    )\n",
    "    for i in mycursor:\n",
    "        logging.info(i)\n",
    "        \n",
    "except Exception as e:\n",
    "    logging.error(e)\n",
    "    \n",
    "finally:\n",
    "    mydb.close()\n",
    "    logging.shutdown()"
   ]
  },
  {
   "cell_type": "markdown",
   "id": "ca7063cc",
   "metadata": {},
   "source": [
    "Q5. Explain Primary Key and Foreign Key.\n",
    "\n",
    "Ans. Primary Key uniquely indentify data in our table. Primary key should always be unique and cannot be null.\n",
    "Foreign Key defines links between tables, it is a field in a table which is primary key in another table."
   ]
  },
  {
   "cell_type": "markdown",
   "id": "0574c074",
   "metadata": {},
   "source": [
    "Q6. Write a python code to connect MySQL to python. Explain the cursor() and execute() method.\n",
    "\n",
    "Ans. cursor() allow python code to execute MYSQL command in database session. It creates a cursor which is bounded for the lifetime of the database session. \n",
    "execute() method accept the SQL query as parameter and execute the given query."
   ]
  },
  {
   "cell_type": "code",
   "execution_count": 12,
   "id": "926cf3fe",
   "metadata": {},
   "outputs": [],
   "source": [
    "try:\n",
    "    \n",
    "    mydb_new = connection.connect(\n",
    "        host = 'localhost',\n",
    "        user = 'root',\n",
    "        password = '123'\n",
    "    )\n",
    "    \n",
    "    logging.info(mydb_new)\n",
    "\n",
    "except Exception as e:\n",
    "    logging.error(e)\n",
    "    \n",
    "finally:\n",
    "    mydb_new.close()\n",
    "    logging.shutdown()"
   ]
  },
  {
   "cell_type": "markdown",
   "id": "624a3a15",
   "metadata": {},
   "source": [
    "Q7. Give the order of execution of SQL clauses in an SQL query.\n",
    "\n",
    "- FROM\n",
    "- WHERE\n",
    "- GROUP BY\n",
    "- HAVING\n",
    "- SELECT\n",
    "- DISTINCT\n",
    "- ORDER BY\n",
    "- LIMIT"
   ]
  }
 ],
 "metadata": {
  "kernelspec": {
   "display_name": "Python 3 (ipykernel)",
   "language": "python",
   "name": "python3"
  },
  "language_info": {
   "codemirror_mode": {
    "name": "ipython",
    "version": 3
   },
   "file_extension": ".py",
   "mimetype": "text/x-python",
   "name": "python",
   "nbconvert_exporter": "python",
   "pygments_lexer": "ipython3",
   "version": "3.9.12"
  }
 },
 "nbformat": 4,
 "nbformat_minor": 5
}

{
 "cells": [
  {
   "cell_type": "markdown",
   "id": "6578d66e",
   "metadata": {},
   "source": [
    "Q1. Explain Class and Object with respect to Object-Oriented Programming. Give a suitable example."
   ]
  },
  {
   "cell_type": "markdown",
   "id": "281ec40c",
   "metadata": {},
   "source": [
    "Ans. Class is a user defined data type which defines a set of attributes and methods of its objects. Objects are an instance of the class and have the class atrributes and methods.\n",
    "\n",
    "For example if we define a car as class than the object of this class will have attributes such as year, make, model and methods such as accelerating the car."
   ]
  },
  {
   "cell_type": "code",
   "execution_count": 1,
   "id": "1a52cd25",
   "metadata": {},
   "outputs": [],
   "source": [
    "class car:\n",
    "    \n",
    "    def __init__(self,year,make,model):\n",
    "        self.year = year\n",
    "        self.make = make\n",
    "        self.model = model\n",
    "        self.speed = 0\n",
    "    \n",
    "    def accelerate(self,speed):\n",
    "        self.speed = speed\n",
    "        return self.speed\n",
    "    "
   ]
  },
  {
   "cell_type": "markdown",
   "id": "daacf21f",
   "metadata": {},
   "source": [
    "Q2. Name the four pillars of OOPs.\n",
    "\n",
    "Ans. The four pillars of OOPs are:\n",
    " - Inheritance\n",
    " - Encapsulation\n",
    " - Polymorphism\n",
    " - Abstraction"
   ]
  },
  {
   "cell_type": "markdown",
   "id": "fc6f84e7",
   "metadata": {},
   "source": [
    "Q3. Explain why the \\__init__() function is used. Give a suitable example.\n",
    "\n",
    "Ans. \\__init__() function is the constructor which is used for instantiating an object. When a new class instance or object is created the instance is automatically passed to the self parameter. All the statements under \\__init__() are executed at the time of object creation.\n",
    "\n",
    "For example: In the below example all car objects have a year, make and model which gets executed at the time of creation, but the value for these attribute vary depending on the object."
   ]
  },
  {
   "cell_type": "code",
   "execution_count": 12,
   "id": "54c1afd4",
   "metadata": {},
   "outputs": [
    {
     "name": "stdout",
     "output_type": "stream",
     "text": [
      "This is a 2010 Hyundai Sonata\n",
      "This is a 2011 Maruti Zen\n"
     ]
    },
    {
     "data": {
      "text/plain": [
       "<__main__.car at 0x160dd171f10>"
      ]
     },
     "execution_count": 12,
     "metadata": {},
     "output_type": "execute_result"
    }
   ],
   "source": [
    "class car:\n",
    "    \n",
    "    def __init__(self,year,make,model):\n",
    "        self.year = year\n",
    "        self.make = make\n",
    "        self.model = model\n",
    "        print(f\"This is a {self.year} {self.make} {self.model}\")\n",
    "        \n",
    "car(2010,\"Hyundai\", \"Sonata\")\n",
    "car(2011,\"Maruti\",\"Zen\")"
   ]
  },
  {
   "cell_type": "markdown",
   "id": "74fd0968",
   "metadata": {},
   "source": [
    "Q4. Why self is used in OOPs?\n",
    "\n",
    "Ans. Self represents the class instance or object constructed. It allows us to use the class attributes and methods and binds the attribute with the given arguments."
   ]
  },
  {
   "cell_type": "markdown",
   "id": "3d1d904d",
   "metadata": {},
   "source": [
    "Q5. What is inheritance? Give an example for each type of inheritance."
   ]
  },
  {
   "cell_type": "markdown",
   "id": "e8ea3591",
   "metadata": {},
   "source": [
    "Inheritance is the process of a class to inherit the attributes and method of another class. The class which inherit is the child class, and the class it inherits from is the parent class.\n",
    "\n",
    "**Single Inheritance** - When a child class inherits from a single parent class."
   ]
  },
  {
   "cell_type": "code",
   "execution_count": 2,
   "id": "f98c3f61",
   "metadata": {},
   "outputs": [],
   "source": [
    "# first parent class\n",
    "class Dog:\n",
    "    \n",
    "    def __init__(self, name, age):\n",
    "        self.name = name\n",
    "        self.age = age\n",
    "        \n",
    "    def says(self,speaks):\n",
    "        self.speaks = speaks\n",
    "        return f\"{self.name} says {self.speaks}\"        "
   ]
  },
  {
   "cell_type": "code",
   "execution_count": 18,
   "id": "f3d722e5",
   "metadata": {},
   "outputs": [],
   "source": [
    "# bulldog inherits from only 1 parent class dog\n",
    "class Bulldog(Dog):\n",
    "    \n",
    "    def __init__(self,name,age,color):\n",
    "        self.color = color\n",
    "        # invoking parent class __init__\n",
    "        Dog.__init__(self,name,age)\n",
    "    \n",
    "    def info(self):\n",
    "        return f\"{self.name} is {self.age} year old and {self.color} in color\""
   ]
  },
  {
   "cell_type": "code",
   "execution_count": 20,
   "id": "02277b0f",
   "metadata": {},
   "outputs": [],
   "source": [
    "Tommy = Bulldog(\"Tommy\",10,\"Black\")"
   ]
  },
  {
   "cell_type": "code",
   "execution_count": 21,
   "id": "73b7a547",
   "metadata": {},
   "outputs": [
    {
     "data": {
      "text/plain": [
       "'Tommy is 10 year old and Black in color'"
      ]
     },
     "execution_count": 21,
     "metadata": {},
     "output_type": "execute_result"
    }
   ],
   "source": [
    "Tommy.info()"
   ]
  },
  {
   "cell_type": "code",
   "execution_count": 23,
   "id": "f69869ca",
   "metadata": {},
   "outputs": [
    {
     "data": {
      "text/plain": [
       "'Tommy says woof'"
      ]
     },
     "execution_count": 23,
     "metadata": {},
     "output_type": "execute_result"
    }
   ],
   "source": [
    "Tommy.says(\"woof\")"
   ]
  },
  {
   "cell_type": "markdown",
   "id": "506bae69",
   "metadata": {},
   "source": [
    "**Multiple Inheritance** : When a child class inherits from multiple parent class"
   ]
  },
  {
   "cell_type": "code",
   "execution_count": 3,
   "id": "3241b1b1",
   "metadata": {},
   "outputs": [],
   "source": [
    "# second parent class\n",
    "class Mammles:\n",
    "    \n",
    "    def __init__(self):\n",
    "        self.legs = 4\n",
    "        self.tail = 1"
   ]
  },
  {
   "cell_type": "code",
   "execution_count": 14,
   "id": "43231823",
   "metadata": {},
   "outputs": [],
   "source": [
    "# child class\n",
    "class germanshephered(Dog,Mammles):\n",
    "        \n",
    "    def __init__(self,name,age):\n",
    "        #invoking the __init__ of parent classes\n",
    "        Dog.__init__(self,name,age)\n",
    "        Mammles.__init__(self)\n",
    "        \n",
    "    def info(self):\n",
    "        return f\"{self.name} is {self.age} year old, have {self.legs} legs and {self.tail} tail\""
   ]
  },
  {
   "cell_type": "code",
   "execution_count": 15,
   "id": "7cabbd5f",
   "metadata": {},
   "outputs": [],
   "source": [
    "# creating an object of class germanshephered\n",
    "sheru = germanshephered(\"Sheru\",2)"
   ]
  },
  {
   "cell_type": "code",
   "execution_count": 16,
   "id": "6fa49ffa",
   "metadata": {},
   "outputs": [
    {
     "data": {
      "text/plain": [
       "2"
      ]
     },
     "execution_count": 16,
     "metadata": {},
     "output_type": "execute_result"
    }
   ],
   "source": [
    "# object of child class inherits attributes of parent class1\n",
    "sheru.age"
   ]
  },
  {
   "cell_type": "code",
   "execution_count": 17,
   "id": "ff9b3c69",
   "metadata": {},
   "outputs": [
    {
     "data": {
      "text/plain": [
       "'Sheru is 2 year old, have 4 legs and 1 tail'"
      ]
     },
     "execution_count": 17,
     "metadata": {},
     "output_type": "execute_result"
    }
   ],
   "source": [
    "# object of child class inherits method of parent class2\n",
    "sheru.info()"
   ]
  },
  {
   "cell_type": "markdown",
   "id": "763bdc30",
   "metadata": {},
   "source": [
    "**Multilevel Inheritance** : We have child and grandchild relationship among classes."
   ]
  },
  {
   "cell_type": "code",
   "execution_count": 22,
   "id": "ddfc456a",
   "metadata": {},
   "outputs": [],
   "source": [
    "# puppy is child class of Bulldog and grandchild class of Dog\n",
    "class puppy(Bulldog):\n",
    "    pass     "
   ]
  },
  {
   "cell_type": "code",
   "execution_count": 23,
   "id": "c82fcd56",
   "metadata": {},
   "outputs": [],
   "source": [
    "# creating an object of class puppy\n",
    "tintin = puppy(\"Tintin\",10,\"white\")"
   ]
  },
  {
   "cell_type": "code",
   "execution_count": 24,
   "id": "1b4cd28e",
   "metadata": {},
   "outputs": [
    {
     "data": {
      "text/plain": [
       "'Tintin is 10 year old and white in color'"
      ]
     },
     "execution_count": 24,
     "metadata": {},
     "output_type": "execute_result"
    }
   ],
   "source": [
    "# object of puppy inherits method of parent class\n",
    "tintin.info()"
   ]
  },
  {
   "cell_type": "code",
   "execution_count": 25,
   "id": "5f2fbeae",
   "metadata": {},
   "outputs": [
    {
     "data": {
      "text/plain": [
       "10"
      ]
     },
     "execution_count": 25,
     "metadata": {},
     "output_type": "execute_result"
    }
   ],
   "source": [
    "# object of puppy inherits attributes of grandparent class\n",
    "tintin.age"
   ]
  }
 ],
 "metadata": {
  "kernelspec": {
   "display_name": "Python 3 (ipykernel)",
   "language": "python",
   "name": "python3"
  },
  "language_info": {
   "codemirror_mode": {
    "name": "ipython",
    "version": 3
   },
   "file_extension": ".py",
   "mimetype": "text/x-python",
   "name": "python",
   "nbconvert_exporter": "python",
   "pygments_lexer": "ipython3",
   "version": "3.9.12"
  }
 },
 "nbformat": 4,
 "nbformat_minor": 5
}

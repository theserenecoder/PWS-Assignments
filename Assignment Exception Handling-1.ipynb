{
 "cells": [
  {
   "cell_type": "markdown",
   "id": "46f6706b",
   "metadata": {},
   "source": [
    "Q1. What is an exception in python? Write the difference between Exceptions and Syntax erros."
   ]
  },
  {
   "cell_type": "markdown",
   "id": "06ac00b8",
   "metadata": {},
   "source": [
    "Ans. Any event which stops the flow of the execution is called exception. Syntax error occur when the statements or the code is syntactically wrong whereas exception occures when though the code is syntactically correct but it halted the flow of the execution. "
   ]
  },
  {
   "cell_type": "markdown",
   "id": "c941d55b",
   "metadata": {},
   "source": [
    "Q2. What happens when an exception is not handled? Explain with an example."
   ]
  },
  {
   "cell_type": "markdown",
   "id": "cdcb85cc",
   "metadata": {},
   "source": [
    "Ans. If an exception is not handled than it will stop the flow of the program when this exception occured and will not proceed further."
   ]
  },
  {
   "cell_type": "markdown",
   "id": "3602ca54",
   "metadata": {},
   "source": [
    "Q3. Which Python statement are used to catch and handle exceptions? Expain with an example."
   ]
  },
  {
   "cell_type": "markdown",
   "id": "210344fa",
   "metadata": {},
   "source": [
    "Ans. We use try() and except() to catch and handle the exceptions. In try() block we will write the code which needs to be executed and except() will handle if any exception occured.\n",
    "\n",
    "In the below example we will be dividing 10 by 0 which will throw ZeroDivisionError which will be handeled by except block and therefore the program flow will not be stopped and it will still log 5+10."
   ]
  },
  {
   "cell_type": "code",
   "execution_count": 1,
   "id": "2df477a3",
   "metadata": {},
   "outputs": [],
   "source": [
    "# \n",
    "import logging\n",
    "try: \n",
    "    logging.basicConfig(filename = \"error.log\", filemode = \"a\",\n",
    "                       level = logging.INFO,\n",
    "                       format = '%(asctime)s %(name)s %(levelname)s %(message)s'\n",
    "                   )\n",
    "    a = 10/0\n",
    "    logging.info(a)\n",
    "    \n",
    "except ZeroDivisionError as e:\n",
    "    logging.error(e)\n",
    "\n",
    "finally:\n",
    "    logging.shutdown()\n",
    "    \n",
    "logging.info(5+10)   "
   ]
  },
  {
   "cell_type": "markdown",
   "id": "cf18694a",
   "metadata": {},
   "source": [
    "Q4. Explain with an example:\n",
    "\n",
    "- try and else\n",
    "- finally\n",
    "- raise\n",
    "\n",
    "Ans. In try() block we will write the code which needs to be executed and else() block will only execute if there was no exception raised in our try block."
   ]
  },
  {
   "cell_type": "code",
   "execution_count": 2,
   "id": "94258979",
   "metadata": {},
   "outputs": [],
   "source": [
    "try:\n",
    "    b = 10+15\n",
    "\n",
    "except TypeError as e:\n",
    "    logging.error(e)\n",
    "else:\n",
    "    logging.info(\"this is else block {}\".format(b))"
   ]
  },
  {
   "cell_type": "markdown",
   "id": "60db959d",
   "metadata": {},
   "source": [
    "finally() block will always execute no matter if an exception was raised or not."
   ]
  },
  {
   "cell_type": "code",
   "execution_count": 3,
   "id": "230b2604",
   "metadata": {},
   "outputs": [],
   "source": [
    "try:\n",
    "    b = 10+'15'\n",
    "\n",
    "except TypeError as e:\n",
    "    logging.error(e)\n",
    "finally:\n",
    "    logging.info(\"This is finally block\")\n",
    "    logging.shutdown()"
   ]
  },
  {
   "cell_type": "markdown",
   "id": "55fb43cb",
   "metadata": {},
   "source": [
    "raise() keyword is used for forcefully raising an error. It is mostly used in raising custom exceptions. "
   ]
  },
  {
   "cell_type": "code",
   "execution_count": 17,
   "id": "5b9f11e9",
   "metadata": {},
   "outputs": [],
   "source": [
    "try:\n",
    "    raise(ValueError(\"This is Value Error\"))\n",
    "except ValueError as e:\n",
    "    logging.error(e)"
   ]
  },
  {
   "cell_type": "markdown",
   "id": "cf570c28",
   "metadata": {},
   "source": [
    "Q5. What are custom exceptions in python? Why do we need custom exceptions? Explain with an example.\n",
    "\n",
    "Ans. Custom exceptions are user defined error which might be needed as per the user needs. For example: if a program needs to enter a age then we can raise error if an age is entered less than zero with the help of raise() keyword."
   ]
  },
  {
   "cell_type": "markdown",
   "id": "2624b1b6",
   "metadata": {},
   "source": [
    "Q6. Create a custome exception class. Use this class to handle an exception"
   ]
  },
  {
   "cell_type": "code",
   "execution_count": 4,
   "id": "9217a43d",
   "metadata": {},
   "outputs": [],
   "source": [
    "# creating a class which inherits Exception class\n",
    "class validate_age(Exception):\n",
    "    \n",
    "    def __init__(self,msg):\n",
    "        self.msg = msg"
   ]
  },
  {
   "cell_type": "code",
   "execution_count": 5,
   "id": "87bffab0",
   "metadata": {},
   "outputs": [],
   "source": [
    "# defining a function which will check age restriction\n",
    "# if false will raise and error of class validate_age\n",
    "\n",
    "def validage(age):\n",
    "    \n",
    "    if age<0:\n",
    "        raise validate_age(\"Age can't be less than zero\")\n",
    "        \n",
    "    elif age >=150:\n",
    "        raise validate_age(\"Age can't be more than 150\")\n",
    "        \n",
    "    else:\n",
    "        logging.info(\"Age is valid\")\n"
   ]
  },
  {
   "cell_type": "code",
   "execution_count": 15,
   "id": "31454dfd",
   "metadata": {},
   "outputs": [
    {
     "name": "stdout",
     "output_type": "stream",
     "text": [
      "Enter the age: -10\n"
     ]
    }
   ],
   "source": [
    "try:\n",
    "    age = int(input(\"Enter the age: \"))\n",
    "    validage(age)\n",
    "\n",
    "except validate_age as e:\n",
    "    logging.error(e)\n",
    "\n",
    "except ValueError as e:\n",
    "    logging.error(e)\n",
    "    \n",
    "else:\n",
    "    logging.info(age)\n",
    "        \n",
    "finally:\n",
    "    logging.shutdown()"
   ]
  }
 ],
 "metadata": {
  "kernelspec": {
   "display_name": "Python 3 (ipykernel)",
   "language": "python",
   "name": "python3"
  },
  "language_info": {
   "codemirror_mode": {
    "name": "ipython",
    "version": 3
   },
   "file_extension": ".py",
   "mimetype": "text/x-python",
   "name": "python",
   "nbconvert_exporter": "python",
   "pygments_lexer": "ipython3",
   "version": "3.9.12"
  }
 },
 "nbformat": 4,
 "nbformat_minor": 5
}

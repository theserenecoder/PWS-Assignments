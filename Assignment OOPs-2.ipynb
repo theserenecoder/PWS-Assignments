{
 "cells": [
  {
   "cell_type": "markdown",
   "id": "b099f1b9",
   "metadata": {},
   "source": [
    "Q1. What is Abstraction in OOps? Explain with an example."
   ]
  },
  {
   "cell_type": "markdown",
   "id": "b52a65fb",
   "metadata": {},
   "source": [
    "Ans. Abstraction in OOPs is hiding the implementation. It creates a skeleton of a class with abstract methods (method declared without implemetation) which can be inherited by child classes. As soon as a child class inherits abtract class it can use these abstract method and define it according to its use. Also, we can make it mandatory to implement all abstract methods."
   ]
  },
  {
   "cell_type": "code",
   "execution_count": 2,
   "id": "a1ca9d9a",
   "metadata": {},
   "outputs": [],
   "source": [
    "import abc\n",
    "\n",
    "# ABC defines a standard way of defining all child classes\n",
    "# child class have to implement all the abstract methods defined\n",
    "class Employee(ABC):\n",
    "    \n",
    "    @abc.abstractmethod\n",
    "    def Personal(self):\n",
    "        return \"this return personal details of the employee\"\n",
    "    \n",
    "    @abc.abstractmethod\n",
    "    def Work(self):\n",
    "        return \"this returns project history of the employee\"\n",
    "    \n",
    "        "
   ]
  },
  {
   "cell_type": "code",
   "execution_count": 3,
   "id": "bcc22d8e",
   "metadata": {},
   "outputs": [],
   "source": [
    "# defining a child class which uses the structure of parent class including all abstract methods\n",
    "class PWSkills(Employee):\n",
    "    \n",
    "    def Personal(self):\n",
    "        return \"this return personal details of PWSkills employee\"\n",
    "    \n",
    "    def Work(self):\n",
    "        return \"this return project history of PWSkills employee\""
   ]
  },
  {
   "cell_type": "code",
   "execution_count": 4,
   "id": "7c6cc625",
   "metadata": {},
   "outputs": [],
   "source": [
    "# creating an object of child class\n",
    "Ashutosh = PWSkills()"
   ]
  },
  {
   "cell_type": "code",
   "execution_count": 5,
   "id": "515193d1",
   "metadata": {},
   "outputs": [
    {
     "data": {
      "text/plain": [
       "'this return personal details of PWSkills employee'"
      ]
     },
     "execution_count": 5,
     "metadata": {},
     "output_type": "execute_result"
    }
   ],
   "source": [
    "# child class method\n",
    "Ashutosh.Personal()"
   ]
  },
  {
   "cell_type": "code",
   "execution_count": 6,
   "id": "13ab4998",
   "metadata": {},
   "outputs": [
    {
     "data": {
      "text/plain": [
       "'this return project history of PWSkills employee'"
      ]
     },
     "execution_count": 6,
     "metadata": {},
     "output_type": "execute_result"
    }
   ],
   "source": [
    "# parent class method\n",
    "Ashutosh.Work()"
   ]
  },
  {
   "cell_type": "markdown",
   "id": "191f340e",
   "metadata": {},
   "source": [
    "Q2. Differentiate between Abstraction and Encapsulation. Explain with an example."
   ]
  },
  {
   "cell_type": "markdown",
   "id": "03f1b18a",
   "metadata": {},
   "source": [
    "Ans. Encapsulation is an idea of bundling the attributes and methods within a unit. It can restrict accessing variables and methods outside a class and prevents modification. We can define private and protected attributes and methods with the use of single \"\\_\" and double \"_ _\".\n",
    "\n",
    "Whereas abstraction creates a skeleton of a class with abstract methods which can be inherited by child class."
   ]
  },
  {
   "cell_type": "code",
   "execution_count": 7,
   "id": "fbe6aba8",
   "metadata": {},
   "outputs": [],
   "source": [
    "# Encapsulation example\n",
    "# parent class\n",
    "class Student:\n",
    "    \n",
    "    def __init__(self, name,age,fees):\n",
    "        # protected attribute, accessible within the class and child classes\n",
    "        self._name = name\n",
    "        self._age = age\n",
    "        \n",
    "        # private attribute only accessible within the class\n",
    "        self.__fees = fees"
   ]
  },
  {
   "cell_type": "code",
   "execution_count": 8,
   "id": "72d80dc7",
   "metadata": {},
   "outputs": [],
   "source": [
    "# child class\n",
    "# inheriting abstract class Employee\n",
    "class Intern(Student,Employee):\n",
    "    \n",
    "    # defining implementation of abstract classes\n",
    "    def Personal(self):\n",
    "        return \"this return personal information of intern\"\n",
    "    def Work(self):\n",
    "        return \"this return project information of intern\"\n",
    "        \n",
    "    \n",
    "    # defining a method using protected and private attribute\n",
    "    def info(self):\n",
    "        return f\"{self._name} is {self._age} years old\""
   ]
  },
  {
   "cell_type": "code",
   "execution_count": 10,
   "id": "3379b1d3",
   "metadata": {},
   "outputs": [],
   "source": [
    "# creating an object of Boxer class\n",
    "Shanu = Intern(\"Shanu\",25,3200)"
   ]
  },
  {
   "cell_type": "code",
   "execution_count": 11,
   "id": "5be60433",
   "metadata": {},
   "outputs": [
    {
     "data": {
      "text/plain": [
       "'Shanu is 25 years old'"
      ]
     },
     "execution_count": 11,
     "metadata": {},
     "output_type": "execute_result"
    }
   ],
   "source": [
    "Shanu.info()"
   ]
  },
  {
   "cell_type": "code",
   "execution_count": 12,
   "id": "f8ef7ad3",
   "metadata": {},
   "outputs": [
    {
     "data": {
      "text/plain": [
       "'this return personal information of intern'"
      ]
     },
     "execution_count": 12,
     "metadata": {},
     "output_type": "execute_result"
    }
   ],
   "source": [
    "Shanu.Personal()"
   ]
  },
  {
   "cell_type": "code",
   "execution_count": 13,
   "id": "743a2f6f",
   "metadata": {},
   "outputs": [
    {
     "data": {
      "text/plain": [
       "'this return project information of intern'"
      ]
     },
     "execution_count": 13,
     "metadata": {},
     "output_type": "execute_result"
    }
   ],
   "source": [
    "Shanu.Work()"
   ]
  },
  {
   "cell_type": "markdown",
   "id": "ed82bff2",
   "metadata": {},
   "source": [
    "Q3. What is abc module in python? Why is it used?\n",
    "\n",
    "Ans. ABC stands for Abstract Base Class and it provides an infrastructure to define abstract base classes and methods."
   ]
  },
  {
   "cell_type": "markdown",
   "id": "10996d9e",
   "metadata": {},
   "source": [
    "Q4. How can we achieve data abstraction?\n",
    "\n",
    "Ans. We can achieve data abstraction by defining abstract class using module **abc** and creating abstract methods with the help of **@abc.abstractmethod** decorator. This abstract class can be inherited by child class along with its abstract method and define its implementation."
   ]
  },
  {
   "cell_type": "markdown",
   "id": "142b6106",
   "metadata": {},
   "source": [
    "Q5. Can we create an instance of an abstract class? Explain your answer.\n",
    "\n",
    "Ans. No, we cannot create an instance of an abstract class, as abstract class is only a blueprint/skeleton and have abstract methods with no implementation. Therefore creating an instance thorws an error."
   ]
  },
  {
   "cell_type": "code",
   "execution_count": 14,
   "id": "f44f2998",
   "metadata": {},
   "outputs": [
    {
     "ename": "TypeError",
     "evalue": "Can't instantiate abstract class Employee with abstract methods Personal, Work",
     "output_type": "error",
     "traceback": [
      "\u001b[1;31m---------------------------------------------------------------------------\u001b[0m",
      "\u001b[1;31mTypeError\u001b[0m                                 Traceback (most recent call last)",
      "Input \u001b[1;32mIn [14]\u001b[0m, in \u001b[0;36m<cell line: 1>\u001b[1;34m()\u001b[0m\n\u001b[1;32m----> 1\u001b[0m ashu \u001b[38;5;241m=\u001b[39m \u001b[43mEmployee\u001b[49m\u001b[43m(\u001b[49m\u001b[43m)\u001b[49m\n",
      "\u001b[1;31mTypeError\u001b[0m: Can't instantiate abstract class Employee with abstract methods Personal, Work"
     ]
    }
   ],
   "source": [
    "ashu = Employee()"
   ]
  }
 ],
 "metadata": {
  "kernelspec": {
   "display_name": "Python 3 (ipykernel)",
   "language": "python",
   "name": "python3"
  },
  "language_info": {
   "codemirror_mode": {
    "name": "ipython",
    "version": 3
   },
   "file_extension": ".py",
   "mimetype": "text/x-python",
   "name": "python",
   "nbconvert_exporter": "python",
   "pygments_lexer": "ipython3",
   "version": "3.9.12"
  }
 },
 "nbformat": 4,
 "nbformat_minor": 5
}

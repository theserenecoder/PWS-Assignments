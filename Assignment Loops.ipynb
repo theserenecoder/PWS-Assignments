{
 "cells": [
  {
   "cell_type": "markdown",
   "id": "2115f46e",
   "metadata": {},
   "source": [
    "Q1. Explain with an example each when to use a for loop and a while loop.\n",
    "\n",
    "Ans. We use while loop when we don't have definit number of iterations or we need to run a loop on a specific condition, whereas we use for loop when we have definite number of iterations. \n",
    "\n",
    "For example if we have a condition to find how many times a user input number is divisible by 2, in this case we will use while loop as we are not aware of the number of iterations, whereas if we have a to print all evem number between 1-100 we will use for loop as we have definite iterations."
   ]
  },
  {
   "cell_type": "code",
   "execution_count": 82,
   "id": "fd05eb8c",
   "metadata": {},
   "outputs": [
    {
     "name": "stdout",
     "output_type": "stream",
     "text": [
      "Enter a number12\n",
      "12 can be divided 2 times by 2\n"
     ]
    }
   ],
   "source": [
    "# while loop example\n",
    "num = int(input(\"Enter a number\"))\n",
    "i = 0\n",
    "j = num\n",
    "while j%2==0:\n",
    "    j = j/2\n",
    "    i = i+1\n",
    "\n",
    "print(\"{} can be divided {} times by 2\".format(num,i))"
   ]
  },
  {
   "cell_type": "code",
   "execution_count": 84,
   "id": "502307df",
   "metadata": {},
   "outputs": [
    {
     "name": "stdout",
     "output_type": "stream",
     "text": [
      "[2, 4, 6, 8, 10, 12, 14, 16, 18, 20, 22, 24, 26, 28, 30, 32, 34, 36, 38, 40, 42, 44, 46, 48, 50, 52, 54, 56, 58, 60, 62, 64, 66, 68, 70, 72, 74, 76, 78, 80, 82, 84, 86, 88, 90, 92, 94, 96, 98, 100]\n"
     ]
    }
   ],
   "source": [
    "# for loop example\n",
    "even = [n for n in range(1,101) if n%2==0]\n",
    "print(even)"
   ]
  },
  {
   "cell_type": "markdown",
   "id": "3eef4bac",
   "metadata": {},
   "source": [
    "Q2. Write a python program to print the sum and product of the first 10 natural numbers using for\n",
    "and while loop."
   ]
  },
  {
   "cell_type": "code",
   "execution_count": 8,
   "id": "587ecb69",
   "metadata": {},
   "outputs": [
    {
     "name": "stdout",
     "output_type": "stream",
     "text": [
      "Sum of first 10 natural number is 55\n",
      "Multiple of first 10 natural number is 3628800\n"
     ]
    }
   ],
   "source": [
    "# using for loop\n",
    "s,m = 0,1\n",
    "for i in range(1,11):\n",
    "    s = s+i\n",
    "    m = m*i\n",
    "print(\"Sum of first 10 natural number is\",s)\n",
    "print(\"Multiple of first 10 natural number is\",m)"
   ]
  },
  {
   "cell_type": "code",
   "execution_count": null,
   "id": "8624843c",
   "metadata": {},
   "outputs": [],
   "source": [
    "# using while loop\n",
    "i = 1\n",
    "s = 0\n",
    "m = 1\n",
    "while i<=10:\n",
    "    s = s+i\n",
    "    m = m*i\n",
    "    i = i+1\n",
    "print(\"Sum of first 10 natural number is\",s)\n",
    "print(\"Multiple of first 10 natural number is\",m)\n"
   ]
  },
  {
   "cell_type": "markdown",
   "id": "3ddb5602",
   "metadata": {},
   "source": [
    "Q3. Create a python program to compute the electricity bill for a household.\n",
    "\n",
    "The per-unit charges in rupees are as follows: For the first 100 units, the user will be charged Rs. 4.5 per\n",
    "unit, for the next 100 units, the user will be charged Rs. 6 per unit, and for the next 100 units, the user will\n",
    "be charged Rs. 10 per unit, After 300 units and above the user will be charged Rs. 20 per unit.\n",
    "\n",
    "You are required to take the units of electricity consumed in a month from the user as input.\n",
    "\n",
    "Your program must pass this test case: when the unit of electricity consumed by the user in a month is\n",
    "310, the total electricity bill should be 2250."
   ]
  },
  {
   "cell_type": "code",
   "execution_count": 50,
   "id": "979b382e",
   "metadata": {},
   "outputs": [
    {
     "name": "stdout",
     "output_type": "stream",
     "text": [
      "Enter the units of electricity consmed 310\n",
      "Your total bill is Rs 2250.0\n"
     ]
    }
   ],
   "source": [
    "def elecbill(unit):\n",
    "    total = 0\n",
    "    for i in range(1,units+1):\n",
    "        if i <=100:\n",
    "            total = total+4.5\n",
    "        elif i >100 and i<=200:\n",
    "            total = total + 6\n",
    "        elif i >200 and i<=300:\n",
    "            total = total +10\n",
    "        else :\n",
    "            total = total+20\n",
    "    return total\n",
    "\n",
    "unit = int(input(\"Enter the units of electricity consmed \"))\n",
    "bill = elecbill(unit)  \n",
    "print(\"Your total bill is Rs\",bill)       "
   ]
  },
  {
   "cell_type": "markdown",
   "id": "04b0cac4",
   "metadata": {},
   "source": [
    "Q4. Create a list of numbers from 1 to 100. Use for loop and while loop to calculate the cube of each\n",
    "number and if the cube of that number is divisible by 4 or 5 then append that number in a list and print\n",
    "that list."
   ]
  },
  {
   "cell_type": "code",
   "execution_count": 68,
   "id": "4819fc00",
   "metadata": {},
   "outputs": [
    {
     "name": "stdout",
     "output_type": "stream",
     "text": [
      "[2, 4, 5, 6, 8, 10, 12, 14, 15, 16, 18, 20, 22, 24, 25, 26, 28, 30, 32, 34, 35, 36, 38, 40, 42, 44, 45, 46, 48, 50, 52, 54, 55, 56, 58, 60, 62, 64, 65, 66, 68, 70, 72, 74, 75, 76, 78, 80, 82, 84, 85, 86, 88, 90, 92, 94, 95, 96, 98, 100]\n"
     ]
    }
   ],
   "source": [
    "# for loop\n",
    "lst=[i for i in range(1,101) if (i**3)%4==0 or (i**3)%5==0]\n",
    "print(lst)"
   ]
  },
  {
   "cell_type": "code",
   "execution_count": 67,
   "id": "d92097ef",
   "metadata": {},
   "outputs": [
    {
     "name": "stdout",
     "output_type": "stream",
     "text": [
      "[2, 4, 5, 6, 8, 10, 12, 14, 15, 16, 18, 20, 22, 24, 25, 26, 28, 30, 32, 34, 35, 36, 38, 40, 42, 44, 45, 46, 48, 50, 52, 54, 55, 56, 58, 60, 62, 64, 65, 66, 68, 70, 72, 74, 75, 76, 78, 80, 82, 84, 85, 86, 88, 90, 92, 94, 95, 96, 98, 100]\n"
     ]
    }
   ],
   "source": [
    "# while loop\n",
    "i = 1\n",
    "lst=[]\n",
    "\n",
    "while i<=100:\n",
    "    if (i**3)%4==0 or (i**3)%5==0:\n",
    "        lst.append(i)\n",
    "    i = i+1\n",
    "print(lst)"
   ]
  },
  {
   "cell_type": "markdown",
   "id": "a66a1380",
   "metadata": {},
   "source": [
    "Q5. Write a program to filter count vowels in the below-given string.\n",
    "\n",
    "string = \"I want to become a data scientist\""
   ]
  },
  {
   "cell_type": "code",
   "execution_count": 80,
   "id": "213f277b",
   "metadata": {},
   "outputs": [
    {
     "data": {
      "text/plain": [
       "'There are 12 vowels in our string'"
      ]
     },
     "execution_count": 80,
     "metadata": {},
     "output_type": "execute_result"
    }
   ],
   "source": [
    "def count_vowel(string):\n",
    "    '''this function will return the number of vowels in a string '''\n",
    "    count = 0\n",
    "    vowel = [\"a\",\"e\",\"i\",\"o\",\"u\"]\n",
    "    for i in string:\n",
    "        if i.lower() in vowel:\n",
    "            count = count+1      \n",
    "    return \"There are {} vowels in our string\".format(count)\n",
    "\n",
    "count_vowel(\"I want to become a data scientist\")"
   ]
  },
  {
   "cell_type": "code",
   "execution_count": null,
   "id": "161dfeff",
   "metadata": {},
   "outputs": [],
   "source": []
  }
 ],
 "metadata": {
  "kernelspec": {
   "display_name": "Python 3 (ipykernel)",
   "language": "python",
   "name": "python3"
  },
  "language_info": {
   "codemirror_mode": {
    "name": "ipython",
    "version": 3
   },
   "file_extension": ".py",
   "mimetype": "text/x-python",
   "name": "python",
   "nbconvert_exporter": "python",
   "pygments_lexer": "ipython3",
   "version": "3.9.12"
  }
 },
 "nbformat": 4,
 "nbformat_minor": 5
}

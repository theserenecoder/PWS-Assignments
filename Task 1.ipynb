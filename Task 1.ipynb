{
 "cells": [
  {
   "cell_type": "markdown",
   "id": "2a0801ee-ab8a-462b-b08d-003d284588e0",
   "metadata": {},
   "source": [
    "Q1. Create a function which will take a list as an argument and return the product of all the numbers after creating a flat list.\n",
    "Use the below-given list as an argument for your function.\n",
    "\n",
    "list1 = [1,2,3,4, [44,55,66, True], False, (34,56,78,89,34), {1,2,3,3,2,1}, {1:34, \"key2\": [55, 67, 78, 89], 4: (45,22, 61, 34)}, [56, 'data science'], 'Machine Learning']\n",
    "\n",
    "Note: you must extract numeric keys and values of the dictionary also."
   ]
  },
  {
   "cell_type": "code",
   "execution_count": 1,
   "id": "8ca9796a-9ea1-4ac7-a8a3-536414dd8048",
   "metadata": {},
   "outputs": [],
   "source": [
    "from functools import reduce\n",
    "def numeric_list(lst):\n",
    "    '''this function will return a list with all numeric from a given list'''\n",
    "    nlst = []\n",
    "    for i in lst:\n",
    "        if isinstance(i,int) and type(i) !=bool:\n",
    "            nlst.append(i)\n",
    "        elif isinstance(i,(list,tuple,set)):\n",
    "            nlst.extend(numeric_list(i))\n",
    "        elif isinstance(i,dict):\n",
    "            for k,v in i.items():\n",
    "                if isinstance(k,int) and type(k) !=bool:\n",
    "                    nlst.append(k)\n",
    "                if isinstance(v,int) and type(k) !=bool:\n",
    "                    nlst.append(v)\n",
    "                if isinstance(v,(list,tuple)):\n",
    "                    nlst.extend(numeric_list(v))\n",
    "    return nlst\n",
    "\n",
    "def list_prod(lst):\n",
    "    prod = reduce(lambda x,y:x*y, numeric_list(lst))\n",
    "    return prod "
   ]
  },
  {
   "cell_type": "code",
   "execution_count": 2,
   "id": "6052df2f-f28c-408c-a432-65c457621c58",
   "metadata": {},
   "outputs": [
    {
     "name": "stdout",
     "output_type": "stream",
     "text": [
      "4134711838987085478833841242112000\n"
     ]
    }
   ],
   "source": [
    "list1 = [1,2,3,4, [44,55,66, True], False, (34,56,78,89,34), {1,2,3,3,2,1}, {1:34, \"key2\": [55, 67, 78, 89], 4: (45,22, 61, 34)}, [56, 'data science'], 'Machine Learning']\n",
    "print(list_prod(list1))\n"
   ]
  },
  {
   "cell_type": "markdown",
   "id": "0a73b068-7302-4f59-9c88-3a9f49d188da",
   "metadata": {},
   "source": [
    "Q2. Write a python program for encrypting a message sent to you by your friend. The logic of encryption should be such that, for a the output should be z. For b, the output should be y. For c, the output should be x respectively. Also, the whitespace should be replaced with a dollar sign. Keep the punctuation marks unchanged.\n",
    "\n",
    "Input Sentence: I want to become a Data Scientist.\n",
    "\n",
    "Encrypt the above input sentence using the program you just created.\n",
    "\n",
    "Note: Convert the given input sentence into lowercase before encrypting. The final output should be lowercase."
   ]
  },
  {
   "cell_type": "code",
   "execution_count": 3,
   "id": "bd12a2d8-3ec6-4607-a5da-21255037ee37",
   "metadata": {},
   "outputs": [],
   "source": [
    "import string\n",
    "\n",
    "def encrypting(my_string):\n",
    "    \"\"\"this function will encrypt the string\"\"\"\n",
    "    alphabet = list(string.ascii_lowercase)\n",
    "    replace_dict = dict(zip(alphabet,alphabet[::-1]))\n",
    "    replace_dict[\" \"] = \"$\"\n",
    "    str_lst = list(my_string.lower())\n",
    "    new_string = \"\".join([replace_dict[i] for i in str_lst])\n",
    "    \n",
    "    return new_string"
   ]
  },
  {
   "cell_type": "code",
   "execution_count": 4,
   "id": "44ad79cc-500b-4fac-bda0-ea00f6349045",
   "metadata": {},
   "outputs": [
    {
     "data": {
      "text/plain": [
       "'r$dzmg$gl$yvxlnv$z$wzgz$hxrvmgrhg'"
      ]
     },
     "execution_count": 4,
     "metadata": {},
     "output_type": "execute_result"
    }
   ],
   "source": [
    "my_str = \"I want to become a Data Scientist\"\n",
    "encrypting(my_str)"
   ]
  }
 ],
 "metadata": {
  "kernelspec": {
   "display_name": "Python 3 (ipykernel)",
   "language": "python",
   "name": "python3"
  },
  "language_info": {
   "codemirror_mode": {
    "name": "ipython",
    "version": 3
   },
   "file_extension": ".py",
   "mimetype": "text/x-python",
   "name": "python",
   "nbconvert_exporter": "python",
   "pygments_lexer": "ipython3",
   "version": "3.10.8"
  }
 },
 "nbformat": 4,
 "nbformat_minor": 5
}

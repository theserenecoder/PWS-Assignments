{
 "cells": [
  {
   "cell_type": "markdown",
   "id": "3a58ef73-b1d6-419c-a610-de262684b4d1",
   "metadata": {},
   "source": [
    "Q1. You are writing code for a company. The requirement of the company is that you create a python function that will check whether the password entered by the user is correct or not. The function should take the password as input and return the string “Valid Password” if the entered password follows the below-given password guidelines else it should return “Invalid Password”. \n",
    "\n",
    "Note: \n",
    "\n",
    "1. The Password should contain at least two uppercase letters and at least two lowercase letters.\n",
    "\n",
    "2. The Password should contain at least a number and three special characters.\n",
    "\n",
    "3. The length of the password should be 10 characters long."
   ]
  },
  {
   "cell_type": "code",
   "execution_count": 1,
   "id": "88a6687c-02ef-4e79-81a4-232436221cf4",
   "metadata": {},
   "outputs": [],
   "source": [
    "import string\n",
    "def password(my_password):\n",
    "    \"\"\"this function will check password validation\"\"\"\n",
    "    n,c,u,sp = 0,0,0,0\n",
    "    if len(my_password)==10:\n",
    "        for i in my_password:\n",
    "            if i in list(string.digits):\n",
    "                n = n+1\n",
    "            elif i in list(string.ascii_lowercase):\n",
    "                c = c+1\n",
    "            elif i in list(string.ascii_uppercase):\n",
    "                u = u+1\n",
    "            elif i in list(string.punctuation):\n",
    "                sp = sp+1\n",
    "    \n",
    "    if (u>=2) and (c>=2) and (n>=1) and (sp==3):\n",
    "        return \"Valid Password\"\n",
    "    else :\n",
    "        return \"Invalid Password\""
   ]
  },
  {
   "cell_type": "code",
   "execution_count": 2,
   "id": "67c73f72-3302-49b0-87ea-97db0b135080",
   "metadata": {},
   "outputs": [
    {
     "name": "stdout",
     "output_type": "stream",
     "text": [
      "Enter a 10 character password PwSki@!#22\n"
     ]
    },
    {
     "data": {
      "text/plain": [
       "'Valid Password'"
      ]
     },
     "execution_count": 2,
     "metadata": {},
     "output_type": "execute_result"
    }
   ],
   "source": [
    "my_password = input(\"Enter a 10 character password \")\n",
    "password(my_password)"
   ]
  },
  {
   "cell_type": "markdown",
   "id": "044512ea-b958-4d57-a6bc-7f09ad9110e0",
   "metadata": {},
   "source": [
    "Q2. Solve the below-given questions using at least one of the following:\n",
    "\n",
    "1. Lambda function\n",
    "2. Filter function\n",
    "3. Map function\n",
    "4. List Comprehension"
   ]
  },
  {
   "cell_type": "markdown",
   "id": "6f97dd46-5560-4890-b865-67727b61eba0",
   "metadata": {},
   "source": [
    "- Check if the string starts with a particular letter"
   ]
  },
  {
   "cell_type": "code",
   "execution_count": 3,
   "id": "6894d8ec-ee94-4179-9f18-1c72f0d79b1c",
   "metadata": {},
   "outputs": [
    {
     "name": "stdout",
     "output_type": "stream",
     "text": [
      "enter a string: This is a string\n"
     ]
    },
    {
     "data": {
      "text/plain": [
       "True"
      ]
     },
     "execution_count": 3,
     "metadata": {},
     "output_type": "execute_result"
    }
   ],
   "source": [
    "my_string = input(\"enter a string: \")\n",
    "a = lambda x: x.lower().startswith(\"t\")\n",
    "a(my_string)"
   ]
  },
  {
   "cell_type": "markdown",
   "id": "a91bbe47",
   "metadata": {},
   "source": [
    "- Check if the string is numeric."
   ]
  },
  {
   "cell_type": "code",
   "execution_count": 4,
   "id": "a708807d",
   "metadata": {},
   "outputs": [
    {
     "name": "stdout",
     "output_type": "stream",
     "text": [
      "enter a string 1232\n"
     ]
    },
    {
     "data": {
      "text/plain": [
       "True"
      ]
     },
     "execution_count": 4,
     "metadata": {},
     "output_type": "execute_result"
    }
   ],
   "source": [
    "my_string = input(\"enter a string \")\n",
    "a = lambda x : x.isdigit()\n",
    "a(my_string)"
   ]
  },
  {
   "cell_type": "markdown",
   "id": "361757dc",
   "metadata": {},
   "source": [
    "- Sort a list of tuples having fruit names and their quantity. [(\"mango\",99),(\"orange\",80), (\"grapes\", 1000)]"
   ]
  },
  {
   "cell_type": "code",
   "execution_count": 5,
   "id": "7ad1ef53",
   "metadata": {},
   "outputs": [
    {
     "data": {
      "text/plain": [
       "[('orange', 80), ('mango', 99), ('grapes', 1000)]"
      ]
     },
     "execution_count": 5,
     "metadata": {},
     "output_type": "execute_result"
    }
   ],
   "source": [
    "my_list = [(\"mango\",99),(\"orange\",80), (\"grapes\", 1000)]\n",
    "a = lambda x: sorted(x,reverse=True)\n",
    "a(my_list)"
   ]
  },
  {
   "cell_type": "markdown",
   "id": "0928d630",
   "metadata": {},
   "source": [
    "- Find the squares of numbers from 1 to 10"
   ]
  },
  {
   "cell_type": "code",
   "execution_count": 6,
   "id": "b6187841",
   "metadata": {},
   "outputs": [
    {
     "data": {
      "text/plain": [
       "[0, 1, 4, 9, 16, 25, 36, 49, 64, 81]"
      ]
     },
     "execution_count": 6,
     "metadata": {},
     "output_type": "execute_result"
    }
   ],
   "source": [
    "my_list = list(range(10))\n",
    "list(map(lambda x:x**2,my_list))"
   ]
  },
  {
   "cell_type": "markdown",
   "id": "c862560b",
   "metadata": {},
   "source": [
    "- Find the cube root of numbers from 1 to 10"
   ]
  },
  {
   "cell_type": "code",
   "execution_count": 7,
   "id": "ae59f6bc",
   "metadata": {},
   "outputs": [
    {
     "data": {
      "text/plain": [
       "[0.0,\n",
       " 1.0,\n",
       " 1.2599210498948732,\n",
       " 1.4422495703074083,\n",
       " 1.5874010519681994,\n",
       " 1.7099759466766968,\n",
       " 1.8171205928321397,\n",
       " 1.912931182772389,\n",
       " 2.0,\n",
       " 2.080083823051904]"
      ]
     },
     "execution_count": 7,
     "metadata": {},
     "output_type": "execute_result"
    }
   ],
   "source": [
    "my_list = list(range(10))\n",
    "list(map(lambda x:x**(1./3),my_list ))"
   ]
  },
  {
   "cell_type": "markdown",
   "id": "5a711e9b",
   "metadata": {},
   "source": [
    "- Check if a given number is even"
   ]
  },
  {
   "cell_type": "code",
   "execution_count": 8,
   "id": "b0bde0b3",
   "metadata": {},
   "outputs": [
    {
     "name": "stdout",
     "output_type": "stream",
     "text": [
      "enter a number 22\n"
     ]
    },
    {
     "data": {
      "text/plain": [
       "'Even'"
      ]
     },
     "execution_count": 8,
     "metadata": {},
     "output_type": "execute_result"
    }
   ],
   "source": [
    "num = int(input(\"enter a number \"))\n",
    "x = lambda x : \"Even\" if x%2==0 else \"Odd\"\n",
    "x(num)"
   ]
  },
  {
   "cell_type": "markdown",
   "id": "2a29fb4b",
   "metadata": {},
   "source": [
    "- Filter odd numbers from the given list. [1,2,3,4,5,6,7,8,9,10]"
   ]
  },
  {
   "cell_type": "code",
   "execution_count": 9,
   "id": "13b3b295",
   "metadata": {},
   "outputs": [
    {
     "data": {
      "text/plain": [
       "[1, 3, 5, 7, 9]"
      ]
     },
     "execution_count": 9,
     "metadata": {},
     "output_type": "execute_result"
    }
   ],
   "source": [
    "my_list = [1,2,3,4,5,6,7,8,9,10]\n",
    "list(filter(lambda x: x%2 !=0, my_list))"
   ]
  },
  {
   "cell_type": "markdown",
   "id": "b82bdc4c",
   "metadata": {},
   "source": [
    "- Sort a list of integers into positive and negative integers lists. [1,2,3,4,5,6,-1,-2,-3,-4,-5,0]"
   ]
  },
  {
   "cell_type": "code",
   "execution_count": 10,
   "id": "76ec1ab4",
   "metadata": {},
   "outputs": [
    {
     "name": "stdout",
     "output_type": "stream",
     "text": [
      "[1, 2, 3, 4, 5, 6, 0]\n",
      "[-1, -2, -3, -4, -5]\n"
     ]
    }
   ],
   "source": [
    "my_list = [1,2,3,4,5,6,-1,-2,-3,-4,-5,0]\n",
    "list1 = [i for i in my_list if i>=0]\n",
    "list2 = [i for i in my_list if i<0]\n",
    "print(list1)\n",
    "print(list2)"
   ]
  }
 ],
 "metadata": {
  "kernelspec": {
   "display_name": "Python 3 (ipykernel)",
   "language": "python",
   "name": "python3"
  },
  "language_info": {
   "codemirror_mode": {
    "name": "ipython",
    "version": 3
   },
   "file_extension": ".py",
   "mimetype": "text/x-python",
   "name": "python",
   "nbconvert_exporter": "python",
   "pygments_lexer": "ipython3",
   "version": "3.9.12"
  }
 },
 "nbformat": 4,
 "nbformat_minor": 5
}

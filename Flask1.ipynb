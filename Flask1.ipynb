{
 "cells": [
  {
   "cell_type": "markdown",
   "id": "0be6d6f3",
   "metadata": {},
   "source": [
    "Q1. What is Flask Framework? What are the advantages of Flask Framework?\n",
    "\n",
    "Ans. Flask is a web application framework developed in python. It is easy to learn, light weight and works on client-server arcitecture."
   ]
  },
  {
   "cell_type": "markdown",
   "id": "4f600a6b",
   "metadata": {},
   "source": [
    "Q2. Create a simple Flask application to display ‘Hello World!!’. Attach the screenshot of the output in\n",
    "Jupyter Notebook.\n",
    "\n",
    "\n",
    "```python\n",
    "from flask import Flask\n",
    "app = Flask(__name__)\n",
    "\n",
    "@app.route('/')\n",
    "def home():\n",
    "    return \"<h1>Hello World</h1>\"\n",
    "\n",
    "if __name__ == '__main__':\n",
    "    app.run()\n",
    "```"
   ]
  },
  {
   "cell_type": "markdown",
   "id": "25c71678",
   "metadata": {},
   "source": [
    "\n",
    "\n",
    "<img src=\"./images/Flask1_1.png\" alt=\"Hello World\"/>"
   ]
  },
  {
   "cell_type": "markdown",
   "id": "e9b42180",
   "metadata": {},
   "source": [
    "Q3. What is app routing in Flask? Why do we use app routes?\n",
    "\n",
    "Ans. App routing is mapping of URLs to a specific funtion. In the above example, home() function is mapped to root ('/') path and we see the output of the funtion on that path. App routing makes it easier and faster to access the desired page and makes navigation simple."
   ]
  },
  {
   "cell_type": "markdown",
   "id": "fb471d1c",
   "metadata": {},
   "source": [
    "Q4. Create a “/welcome” route to display the welcome message “Welcome to ABC Corporation” and a “/”\n",
    "route to show the following details:\n",
    "Company Name: ABC Corporation\n",
    "Location: India\n",
    "Contact Detail: 999-999-9999"
   ]
  },
  {
   "cell_type": "markdown",
   "id": "ed075ed6",
   "metadata": {},
   "source": [
    "```python\n",
    "app = Flask(__name__)\n",
    "\n",
    "@app.route('/')\n",
    "def home():\n",
    "    result = \"\"\"<p>Company Name : ABC Corporation</p>\n",
    "        <p>Location : India</p>\n",
    "        <p>Contact Detail : 999-999-9999</p>\"\"\"\n",
    "    return result\n",
    "    \n",
    "\n",
    "@app.route('/welcome')\n",
    "def welcome():\n",
    "    return \"<h1>Welcome to ABC Corporation</h1>\"\n",
    "\n",
    "if__name__ == '__main__':\n",
    "    app.run()\n",
    "```"
   ]
  },
  {
   "cell_type": "markdown",
   "id": "9db24dd2",
   "metadata": {},
   "source": [
    "<img src= \"./images/Flask1_3.png\">\n",
    "\n",
    "<img src= \"./images/Flask1_2.png\">"
   ]
  },
  {
   "cell_type": "markdown",
   "id": "73015a0d",
   "metadata": {},
   "source": [
    "Q5. What function is used in Flask for URL Building? Write a Python code to demonstrate the working of the url_for() function.\n",
    "\n",
    "Ans. url_for() function is used for building URL."
   ]
  },
  {
   "cell_type": "code",
   "execution_count": 1,
   "id": "dfce00af",
   "metadata": {},
   "outputs": [
    {
     "name": "stdout",
     "output_type": "stream",
     "text": [
      " * Serving Flask app \"__main__\" (lazy loading)\n",
      " * Environment: production\n",
      "\u001b[31m   WARNING: This is a development server. Do not use it in a production deployment.\u001b[0m\n",
      "\u001b[2m   Use a production WSGI server instead.\u001b[0m\n",
      " * Debug mode: off\n"
     ]
    },
    {
     "name": "stderr",
     "output_type": "stream",
     "text": [
      " * Running on http://127.0.0.1:5000/ (Press CTRL+C to quit)\n",
      "127.0.0.1 - - [10/Jul/2023 01:10:15] \"GET / HTTP/1.1\" 200 -\n"
     ]
    }
   ],
   "source": [
    "from flask import Flask, redirect, url_for\n",
    "\n",
    "app = Flask(__name__)\n",
    "\n",
    "@app.route('/')\n",
    "def home():\n",
    "    return \"This is home page\"\n",
    "\n",
    "@app.route('/pass/<int:score>')\n",
    "def success(score):\n",
    "    return \"The person has passed with the score \"+ str(score)\n",
    "\n",
    "@app.route('/fail/<int:score>')\n",
    "def fail(score):\n",
    "    return \"The person has failed with score \"+str(score)\n",
    "\n",
    "@app.route(\"/result/<int:score>\")\n",
    "def result(score):\n",
    "    if score>=45:\n",
    "        res = 'success'\n",
    "    else:\n",
    "        res = 'fail'\n",
    "        \n",
    "    return redirect(url_for(res,score = score))\n",
    "\n",
    "if __name__ == '__main__':\n",
    "    app.run()"
   ]
  },
  {
   "cell_type": "code",
   "execution_count": null,
   "id": "0a53daf2",
   "metadata": {},
   "outputs": [],
   "source": []
  }
 ],
 "metadata": {
  "kernelspec": {
   "display_name": "Python 3 (ipykernel)",
   "language": "python",
   "name": "python3"
  },
  "language_info": {
   "codemirror_mode": {
    "name": "ipython",
    "version": 3
   },
   "file_extension": ".py",
   "mimetype": "text/x-python",
   "name": "python",
   "nbconvert_exporter": "python",
   "pygments_lexer": "ipython3",
   "version": "3.9.12"
  }
 },
 "nbformat": 4,
 "nbformat_minor": 5
}

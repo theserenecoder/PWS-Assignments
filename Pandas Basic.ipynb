{
 "cells": [
  {
   "cell_type": "markdown",
   "id": "cc0395cf",
   "metadata": {},
   "source": [
    "Q1. Create a Pandas Series that contains the following data: 4, 8, 15, 16, 23, and 42. Then, print the series."
   ]
  },
  {
   "cell_type": "code",
   "execution_count": 2,
   "id": "dfd79e27",
   "metadata": {},
   "outputs": [
    {
     "name": "stdout",
     "output_type": "stream",
     "text": [
      "0     4\n",
      "1     8\n",
      "2    15\n",
      "3    16\n",
      "4    23\n",
      "5    42\n",
      "dtype: int64\n"
     ]
    }
   ],
   "source": [
    "import pandas as pd\n",
    "ser = pd.Series([4,8,15,16,23,42])\n",
    "print(ser)"
   ]
  },
  {
   "cell_type": "markdown",
   "id": "5c18a520",
   "metadata": {},
   "source": [
    "Q2. Create a variable of list type containing 10 elements in it, and apply pandas.Series function on the\n",
    "variable print it."
   ]
  },
  {
   "cell_type": "code",
   "execution_count": 3,
   "id": "a7715915",
   "metadata": {},
   "outputs": [
    {
     "name": "stdout",
     "output_type": "stream",
     "text": [
      "0     10\n",
      "1     11\n",
      "2     12\n",
      "3     13\n",
      "4     14\n",
      "5     15\n",
      "6     16\n",
      "7     17\n",
      "8     18\n",
      "9     19\n",
      "10    20\n",
      "dtype: int64\n"
     ]
    }
   ],
   "source": [
    "lst = [10,11,12,13,14,15,16,17,18,19,20]\n",
    "print(pd.Series(lst))"
   ]
  },
  {
   "cell_type": "markdown",
   "id": "73184486",
   "metadata": {},
   "source": [
    "Q3. Create a Pandas DataFrame that contains the following data:"
   ]
  },
  {
   "cell_type": "code",
   "execution_count": 4,
   "id": "41d138ed",
   "metadata": {},
   "outputs": [
    {
     "name": "stdout",
     "output_type": "stream",
     "text": [
      "     Name  Age  Gender\n",
      "0   Alice   25  Female\n",
      "1     Bob   30    Male\n",
      "2  Claire   27  Female\n"
     ]
    }
   ],
   "source": [
    "df = pd.DataFrame({\n",
    "    'Name' : ['Alice','Bob','Claire'],\n",
    "    'Age' : [25,30,27],\n",
    "    'Gender' : ['Female','Male','Female']\n",
    "})\n",
    "\n",
    "print(df)"
   ]
  },
  {
   "cell_type": "markdown",
   "id": "89c6937d",
   "metadata": {},
   "source": [
    "Q4. What is ‘DataFrame’ in pandas and how is it different from pandas.series? Explain with an example.\n",
    "\n",
    "Ans. Pandas Series is a 1d array, similar to a list, whereas DataFrame in padas is a multi dimentional array like an excel table which has multiple rows and columns. Each column in a dataframe is a series.\n",
    "\n",
    "When we read a csv file in pandas it will be stored as a dataframe which will have n-rows and m-column making it a multi-dimentional array, whereas when we save numbers 1-10 as series it get stored as 1d array with a defined index."
   ]
  },
  {
   "cell_type": "code",
   "execution_count": 5,
   "id": "6bd97107",
   "metadata": {},
   "outputs": [
    {
     "name": "stdout",
     "output_type": "stream",
     "text": [
      "     Name  Age  Gender\n",
      "0   Alice   25  Female\n",
      "1     Bob   30    Male\n",
      "2  Claire   27  Female <class 'pandas.core.frame.DataFrame'> \n",
      "\n",
      "0     4\n",
      "1     8\n",
      "2    15\n",
      "3    16\n",
      "4    23\n",
      "5    42\n",
      "dtype: int64 <class 'pandas.core.series.Series'>\n"
     ]
    }
   ],
   "source": [
    "#example of df\n",
    "print(df, type(df),\"\\n\")\n",
    "\n",
    "#example of series\n",
    "print(ser,type(ser))"
   ]
  },
  {
   "cell_type": "markdown",
   "id": "bbad57e6",
   "metadata": {},
   "source": [
    "Q5. What are some common functions you can use to manipulate data in a Pandas DataFrame? Can you give an example of when you might use one of these functions?\n",
    "\n",
    "Ans. Pandas provide a wide range of functions to manipulate the data.\n",
    "\n",
    " 1. __head()__ : It returns the first few row of the dataframe. It helps in inspecting the data and its structure."
   ]
  },
  {
   "cell_type": "code",
   "execution_count": 6,
   "id": "c647180e",
   "metadata": {},
   "outputs": [
    {
     "name": "stdout",
     "output_type": "stream",
     "text": [
      "     Name  Age  Gender\n",
      "0   Alice   25  Female\n",
      "1     Bob   30    Male\n",
      "2  Claire   27  Female\n"
     ]
    }
   ],
   "source": [
    "#returns first few rows\n",
    "print(df.head())"
   ]
  },
  {
   "cell_type": "markdown",
   "id": "c2bf91fe",
   "metadata": {},
   "source": [
    "2. __loc[ ]__ and  __iloc[ ]__ : These are used for label based and integer based indexing respectively. They help in accessing specific rows and columns."
   ]
  },
  {
   "cell_type": "code",
   "execution_count": 7,
   "id": "a2fc9cce",
   "metadata": {},
   "outputs": [
    {
     "name": "stdout",
     "output_type": "stream",
     "text": [
      "     Name  Gender\n",
      "1     Bob    Male\n",
      "2  Claire  Female\n"
     ]
    }
   ],
   "source": [
    "print(df.loc[1:3,['Name','Gender']])"
   ]
  },
  {
   "cell_type": "code",
   "execution_count": 10,
   "id": "fb6636f2",
   "metadata": {},
   "outputs": [
    {
     "name": "stdout",
     "output_type": "stream",
     "text": [
      "     Name  Gender\n",
      "1     Bob    Male\n",
      "2  Claire  Female\n"
     ]
    }
   ],
   "source": [
    "print(df.iloc[1:3,0:3:2])"
   ]
  },
  {
   "cell_type": "markdown",
   "id": "774f4c2c",
   "metadata": {},
   "source": [
    "3. __filter()__ : Used for filtering rows based on specific conditions. "
   ]
  },
  {
   "cell_type": "code",
   "execution_count": 11,
   "id": "454a5acc",
   "metadata": {},
   "outputs": [
    {
     "name": "stdout",
     "output_type": "stream",
     "text": [
      "     Name  Age  Gender\n",
      "0   Alice   25  Female\n",
      "2  Claire   27  Female\n"
     ]
    }
   ],
   "source": [
    "print(df[df['Gender']=='Female'])"
   ]
  },
  {
   "cell_type": "markdown",
   "id": "769d8474",
   "metadata": {},
   "source": [
    "Q6. Which of the following is mutable in nature Series, DataFrame, Panel?\n",
    "\n",
    "Ans. In pandas Series and Dataframe are mutable whereas Panel are not mutable."
   ]
  },
  {
   "cell_type": "markdown",
   "id": "add558bb",
   "metadata": {},
   "source": [
    "Q7. Create a DataFrame using multiple Series. Explain with an example."
   ]
  },
  {
   "cell_type": "code",
   "execution_count": 12,
   "id": "854bf994",
   "metadata": {},
   "outputs": [
    {
     "name": "stdout",
     "output_type": "stream",
     "text": [
      "   Index     Name  Age\n",
      "0      1     Ashu   33\n",
      "1      2    Shanu   33\n",
      "2      3    Daksh   28\n",
      "3      4    Suraj   30\n",
      "4      5   Soumya   33\n",
      "5      6  Akansha   30\n"
     ]
    }
   ],
   "source": [
    "ind = pd.Series([1,2,3,4,5,6])\n",
    "name = pd.Series([\"Ashu\",'Shanu','Daksh','Suraj','Soumya','Akansha'])\n",
    "age = pd.Series([33,33,28,30,33,30])\n",
    "df2 = pd.DataFrame({'Index' : ind,\n",
    "                   'Name' : name,\n",
    "                   'Age':age})\n",
    "print(df2)"
   ]
  }
 ],
 "metadata": {
  "kernelspec": {
   "display_name": "Python 3 (ipykernel)",
   "language": "python",
   "name": "python3"
  },
  "language_info": {
   "codemirror_mode": {
    "name": "ipython",
    "version": 3
   },
   "file_extension": ".py",
   "mimetype": "text/x-python",
   "name": "python",
   "nbconvert_exporter": "python",
   "pygments_lexer": "ipython3",
   "version": "3.9.12"
  }
 },
 "nbformat": 4,
 "nbformat_minor": 5
}

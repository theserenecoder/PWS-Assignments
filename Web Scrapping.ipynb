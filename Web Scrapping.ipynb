{
 "cells": [
  {
   "cell_type": "markdown",
   "id": "ed0db878",
   "metadata": {},
   "source": [
    "Q1. What is Web Scraping? Why is it Used? Give three areas where Web Scraping is used to get data.\n",
    "\n",
    "Ans. Web scrapping is an automated process of extracting structured web data. It is used to download the data displayed on websites and store it in data base for further use. Three most common application of web scrapping is market research, price monitoring and sentimental analysis."
   ]
  },
  {
   "cell_type": "markdown",
   "id": "d6d5e811",
   "metadata": {},
   "source": [
    "Q2. What are the different methods used for Web Scraping?\n",
    "\n",
    "Ans. Human copy paste, text-pattern matching, HTML parsing, HTTP programming etc."
   ]
  },
  {
   "cell_type": "markdown",
   "id": "e72fb1d6",
   "metadata": {},
   "source": [
    "Q3. What is Beautiful Soup? Why is it used?\n",
    "\n",
    "Ans Beautiful Soup is a python package which is used for parsing HTML and XML documents, creates a parse tree for parse pages and extract data from HTML which is used in web scrapping. "
   ]
  },
  {
   "cell_type": "markdown",
   "id": "ce5a18ff",
   "metadata": {},
   "source": [
    "Q4. Why is flask used in this Web Scraping project?\n",
    "\n",
    "Ans. There are multiple benefits of using flask in web scraping project. It allow to create a simple web interface to display the scrapped data and enables to render the information in HTML template. With the help of flask we can implement user interactions such as submitting seach query or specify parameters for the scraping process. With the help of flask we can also build an API can be used by other applications to access the scrapped data."
   ]
  },
  {
   "cell_type": "markdown",
   "id": "7754bc83",
   "metadata": {},
   "source": [
    "Q5. Write the names of AWS services used in this project. Also, explain the use of each service.\n",
    "\n",
    "Ans. In this project we used Elastic Beanstalk and Code pipeline. Elastic Beanstalk helps us deploy our web services and provide us a virtual enviorment to run our web application. Code Pipeline is a countinues delivery service that help user to build, test and deploy code into a test or production enviorment."
   ]
  }
 ],
 "metadata": {
  "kernelspec": {
   "display_name": "Python 3 (ipykernel)",
   "language": "python",
   "name": "python3"
  },
  "language_info": {
   "codemirror_mode": {
    "name": "ipython",
    "version": 3
   },
   "file_extension": ".py",
   "mimetype": "text/x-python",
   "name": "python",
   "nbconvert_exporter": "python",
   "pygments_lexer": "ipython3",
   "version": "3.9.12"
  }
 },
 "nbformat": 4,
 "nbformat_minor": 5
}

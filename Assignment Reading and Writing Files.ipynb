{
 "cells": [
  {
   "cell_type": "markdown",
   "id": "52553a5c",
   "metadata": {},
   "source": [
    "Q1. Which function is used to open a file? What are the different modes of opening a file? Explain each mode of file opening."
   ]
  },
  {
   "cell_type": "markdown",
   "id": "d42e1986",
   "metadata": {},
   "source": [
    "Ans. **open()** function is used for opening a file. There are different modes which can be used while opening a file.\n",
    "- **r** - It is used for opening a file in read mode.\n",
    "- **w** - It is used for opening a file in write mode.\n",
    "- **a** - It is used for opening a file and appending at the end of the file if it exists.\n",
    "- **x** - It creates a new file and open it for writing.\n",
    "- **b** - It is used along with other modes for opening a file in binary mode."
   ]
  },
  {
   "cell_type": "markdown",
   "id": "bef170b4",
   "metadata": {},
   "source": [
    "Q2. Why close() function is used? Why is it important to close a file?"
   ]
  },
  {
   "cell_type": "markdown",
   "id": "ebbb2c08",
   "metadata": {},
   "source": [
    "Ans. **close()** function is used to close a file. If we don't close a file due to buffering any changes which are made to the file will not show up and there is also a chance of loosing the data as till then data will be stored in Ram. Also until file will be closed it will be treated as locked preventing other programs to use the file. If you have open too many files and have not closed it there is a chance of getting file limit error."
   ]
  },
  {
   "cell_type": "markdown",
   "id": "40798092",
   "metadata": {},
   "source": [
    "Q3. Write a python program to create a text file. Write ‘I want to become a Data Scientist’ in that file. Then close the file. Open this file and read the content of the file."
   ]
  },
  {
   "cell_type": "code",
   "execution_count": 64,
   "id": "5b99c22e",
   "metadata": {},
   "outputs": [],
   "source": [
    "# creating a new file and writing in it.\n",
    "f =  open(\"data.txt\",\"w\")\n",
    "f.write(\"I want to become a Data Scientist\")\n",
    "f.write(\"\\nI am learning data science from PWSkills\")\n",
    "f.close()"
   ]
  },
  {
   "cell_type": "code",
   "execution_count": 65,
   "id": "d72f5179",
   "metadata": {},
   "outputs": [
    {
     "data": {
      "text/plain": [
       "'I want to become a Data Scientist\\nI am learning data science from PWSkills'"
      ]
     },
     "execution_count": 65,
     "metadata": {},
     "output_type": "execute_result"
    }
   ],
   "source": [
    "# reading a file\n",
    "f = open(\"data.txt\",\"r\")\n",
    "f.read()"
   ]
  },
  {
   "cell_type": "code",
   "execution_count": 61,
   "id": "d29137e6",
   "metadata": {},
   "outputs": [],
   "source": [
    "# closing an open file\n",
    "f.close()"
   ]
  },
  {
   "cell_type": "markdown",
   "id": "b5e84522",
   "metadata": {},
   "source": [
    "Q4. Explain the following with python code: read(), readline() and readlines().\n",
    "\n",
    "Ans. read() - is used to read certain number of bytes from the file."
   ]
  },
  {
   "cell_type": "code",
   "execution_count": 52,
   "id": "8bb83a8d",
   "metadata": {},
   "outputs": [
    {
     "data": {
      "text/plain": [
       "'I want to become a Data Scientist\\nI am learning data science from PWSkills'"
      ]
     },
     "execution_count": 52,
     "metadata": {},
     "output_type": "execute_result"
    }
   ],
   "source": [
    "# reading first 10 bytes from the file.\n",
    "f = open(\"data.txt\",\"r\")\n",
    "f.read()"
   ]
  },
  {
   "cell_type": "code",
   "execution_count": 53,
   "id": "35bda32c",
   "metadata": {},
   "outputs": [],
   "source": [
    "# closing an open file\n",
    "f.close()"
   ]
  },
  {
   "cell_type": "markdown",
   "id": "b7b71528",
   "metadata": {},
   "source": [
    "readline() -  is used to read and return a line in a file."
   ]
  },
  {
   "cell_type": "code",
   "execution_count": 54,
   "id": "007f985c",
   "metadata": {},
   "outputs": [
    {
     "data": {
      "text/plain": [
       "'I want to become a Data Scientist\\n'"
      ]
     },
     "execution_count": 54,
     "metadata": {},
     "output_type": "execute_result"
    }
   ],
   "source": [
    "# opening a file in read mode and reading lines\n",
    "f = open(\"data.txt\",\"r\")\n",
    "f.readline()"
   ]
  },
  {
   "cell_type": "markdown",
   "id": "ee93fa5e",
   "metadata": {},
   "source": [
    "readlines() - read all the lines in a file and return them as list of strings"
   ]
  },
  {
   "cell_type": "code",
   "execution_count": 55,
   "id": "f5899a97",
   "metadata": {},
   "outputs": [
    {
     "data": {
      "text/plain": [
       "['I want to become a Data Scientist\\n',\n",
       " 'I am learning data science from PWSkills']"
      ]
     },
     "execution_count": 55,
     "metadata": {},
     "output_type": "execute_result"
    }
   ],
   "source": [
    "f.seek(0)\n",
    "f.readlines()"
   ]
  },
  {
   "cell_type": "code",
   "execution_count": 56,
   "id": "98fcbf65",
   "metadata": {},
   "outputs": [],
   "source": [
    "f.close()"
   ]
  },
  {
   "cell_type": "markdown",
   "id": "648beb1d",
   "metadata": {},
   "source": [
    "Q5. Explain why with statement is used with open(). What is the advantage of using with statement and open() together?\n",
    "\n",
    "Ans. When we use with statement with open() we don't have to call close() function as with will automatically close the file for us. This happen because with internally call two methods \\__enter()__ and \\__exit()__."
   ]
  },
  {
   "cell_type": "markdown",
   "id": "1582a327",
   "metadata": {},
   "source": [
    "Q6. Explain the write() and writelines() functions. Give a suitable example.\n",
    "\n",
    "Ans. write() function is used for writing into a file. It expects an argument as string which is written to the file, whereas writelines() function expect and iterable argument as string such as list of string which will be written to the file. Therefore with writelines() we can enter multiple lines. Also writeline() doesnot create a newline on its own."
   ]
  },
  {
   "cell_type": "code",
   "execution_count": 66,
   "id": "e8487844",
   "metadata": {},
   "outputs": [],
   "source": [
    "# using write function\n",
    "with open(\"data2.txt\",\"w\") as f:\n",
    "    f.write(\"This is a first line\")\n",
    "    f.write(\"this is second line\")"
   ]
  },
  {
   "cell_type": "code",
   "execution_count": 68,
   "id": "f369949d",
   "metadata": {},
   "outputs": [
    {
     "name": "stdout",
     "output_type": "stream",
     "text": [
      "This is a first linethis is second line\n"
     ]
    }
   ],
   "source": [
    "with open(\"data2.txt\",\"r\") as f:\n",
    "    print(f.read())"
   ]
  },
  {
   "cell_type": "code",
   "execution_count": 73,
   "id": "ce742910",
   "metadata": {},
   "outputs": [],
   "source": [
    "# using writelines functions\n",
    "with open(\"data.txt3\",\"w\") as f:\n",
    "    f.writelines([\"this is first line\",\"this is second line\",\"this is third line\"])"
   ]
  },
  {
   "cell_type": "code",
   "execution_count": 74,
   "id": "aaf5dc26",
   "metadata": {},
   "outputs": [
    {
     "name": "stdout",
     "output_type": "stream",
     "text": [
      "this is first linethis is second linethis is third line\n"
     ]
    }
   ],
   "source": [
    "with open(\"data.txt3\",\"r\") as f:\n",
    "    print(f.read())"
   ]
  }
 ],
 "metadata": {
  "kernelspec": {
   "display_name": "Python 3 (ipykernel)",
   "language": "python",
   "name": "python3"
  },
  "language_info": {
   "codemirror_mode": {
    "name": "ipython",
    "version": 3
   },
   "file_extension": ".py",
   "mimetype": "text/x-python",
   "name": "python",
   "nbconvert_exporter": "python",
   "pygments_lexer": "ipython3",
   "version": "3.9.12"
  }
 },
 "nbformat": 4,
 "nbformat_minor": 5
}

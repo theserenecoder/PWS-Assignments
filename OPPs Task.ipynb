{
 "cells": [
  {
   "cell_type": "markdown",
   "id": "90e60986-383d-41d9-b75c-bbede969e90f",
   "metadata": {},
   "source": [
    "Q1, Create a vehicle class with an init method having instance variables as name_of_vehicle, max_speed and average_of_vehicle."
   ]
  },
  {
   "cell_type": "code",
   "execution_count": 1,
   "id": "f3eb995b-f5eb-493e-86d2-737e082e5731",
   "metadata": {},
   "outputs": [],
   "source": [
    "class Vehicle:\n",
    "    \n",
    "    def __init__(self, name, speed, average):\n",
    "        self.vehicle_name = name\n",
    "        self.max_speed = speed\n",
    "        self.average = average\n",
    "        print(f\"{self.vehicle_name} has a max speed of {self.max_speed} Kmph with an average speed of{self.average} Kmph\")"
   ]
  },
  {
   "cell_type": "code",
   "execution_count": 2,
   "id": "19b80741-bee8-4ff4-8875-151049e2476a",
   "metadata": {},
   "outputs": [
    {
     "name": "stdout",
     "output_type": "stream",
     "text": [
      "Honda CRV has a max speed of 180 Kmph with an average speed of90 Kmph\n"
     ]
    }
   ],
   "source": [
    "obj_vehicle = Vehicle(\"Honda CRV\",180,90)"
   ]
  },
  {
   "cell_type": "markdown",
   "id": "60ca5225-cb87-45a7-a154-1fc226b4c4d1",
   "metadata": {},
   "source": [
    "Q2. Create a child class car from the vehicle class created in Que 1, which will inherit the vehicle class. Create a method named seating_capacity which takes capacity as an argument and returns the name of the vehicle and its seating capacity."
   ]
  },
  {
   "cell_type": "code",
   "execution_count": 6,
   "id": "4b8a6b11-425e-427f-b21c-3e445d3718df",
   "metadata": {},
   "outputs": [],
   "source": [
    "class Car(Vehicle):\n",
    "    \n",
    "    def __init__(self,name,speed,average, capacity):\n",
    "        self.capacity = capacity\n",
    "        Vehicle.__init__(self,name,speed,average)\n",
    "        \n",
    "    \n",
    "    def seating_capacity(self):\n",
    "         return f\"{self.vehicle_name} has a seating capacity of {self.capacity}\""
   ]
  },
  {
   "cell_type": "code",
   "execution_count": 7,
   "id": "a9377b9d-743a-4501-9f38-6b18c26fc4bc",
   "metadata": {},
   "outputs": [
    {
     "name": "stdout",
     "output_type": "stream",
     "text": [
      "Honda Accord has a max speed of 160 Kmph with an average speed of90 Kmph\n"
     ]
    }
   ],
   "source": [
    "obj_car = Car(\"Honda Accord\",160,90,5)"
   ]
  },
  {
   "cell_type": "code",
   "execution_count": 8,
   "id": "9d045f4a-a0a4-4994-beb2-af641cd6fc06",
   "metadata": {},
   "outputs": [
    {
     "data": {
      "text/plain": [
       "'Honda Accord has a seating capacity of 5'"
      ]
     },
     "execution_count": 8,
     "metadata": {},
     "output_type": "execute_result"
    }
   ],
   "source": [
    "obj_car.seating_capacity()"
   ]
  },
  {
   "cell_type": "markdown",
   "id": "4412188e-0f4b-4a15-ab90-5f65aebd91e0",
   "metadata": {},
   "source": [
    "Q3. What is multiple inheritance? Write a python code to demonstrate multiple inheritance.\n",
    "\n",
    "Ans. Multiple intheritance is when a child class inherits from multiple parent class."
   ]
  },
  {
   "cell_type": "code",
   "execution_count": 9,
   "id": "49c7e653-0080-49ac-9091-3f020252b117",
   "metadata": {},
   "outputs": [],
   "source": [
    "class Father:\n",
    "    \n",
    "    def __init__(self, height):\n",
    "        self.height = height        \n",
    "        \n",
    "class Mother:\n",
    "    \n",
    "    def __init__(self, eye_color):\n",
    "        self.eye_color = eye_color\n",
    "        \n",
    "class Child(Father,Mother):\n",
    "    \n",
    "    def __init__(self, height, eye_color, name, age):\n",
    "        self.name = name\n",
    "        self.age = age\n",
    "        Father.__init__(self,height)\n",
    "        Mother.__init__(self,eye_color)\n",
    "        \n",
    "    def info(self):\n",
    "        return f\"{self.name} is {self.age} years old, {self.height} inch tall and have {self.eye_color} eyes\"\n",
    "        "
   ]
  },
  {
   "cell_type": "code",
   "execution_count": 10,
   "id": "edab9886-ec40-4d7b-9637-c281c06f94d7",
   "metadata": {},
   "outputs": [],
   "source": [
    "obj_child = Child(170,\"blue\",\"Tan\",17)"
   ]
  },
  {
   "cell_type": "code",
   "execution_count": 11,
   "id": "c9d5ee54-571d-4a1d-9b9d-3bc93a5991f2",
   "metadata": {},
   "outputs": [
    {
     "data": {
      "text/plain": [
       "'Tan is 17 years old, 170 inch tall and have blue eyes'"
      ]
     },
     "execution_count": 11,
     "metadata": {},
     "output_type": "execute_result"
    }
   ],
   "source": [
    "obj_child.info()"
   ]
  },
  {
   "cell_type": "markdown",
   "id": "7003acdd-54ac-475e-99f5-4e4d5088c7e1",
   "metadata": {},
   "source": [
    "Q4. What are getter and setter in python? Create a class and create a getter and a setter method in this class.\n",
    "\n",
    "Ans. Getter and setter properties in pythos is used to avoid direct access and add validation logic to private and protected members of the class."
   ]
  },
  {
   "cell_type": "code",
   "execution_count": 12,
   "id": "5f2181fa-2410-48a3-ac36-de494b37e026",
   "metadata": {},
   "outputs": [],
   "source": [
    "class Certificate:\n",
    "    \n",
    "    def __init__(self, course_name, course_price):\n",
    "        self.course_name = course_name\n",
    "        self._course_price = course_price\n",
    "        \n",
    "    @property\n",
    "    def course_price(self):\n",
    "        return self._course_price\n",
    "    \n",
    "    @course_price.setter\n",
    "    def course_price(self, price):\n",
    "        if price < 3500:\n",
    "            self._course_price = price\n",
    "        return self._course_price"
   ]
  },
  {
   "cell_type": "code",
   "execution_count": 13,
   "id": "df4b0748-b4ae-4400-8242-6c605cade0ee",
   "metadata": {},
   "outputs": [],
   "source": [
    "obj_certi = Certificate(\"Data Science\",3200)"
   ]
  },
  {
   "cell_type": "code",
   "execution_count": 14,
   "id": "5fe26933-41b9-43f0-8cca-920c0e5888a7",
   "metadata": {},
   "outputs": [
    {
     "data": {
      "text/plain": [
       "3200"
      ]
     },
     "execution_count": 14,
     "metadata": {},
     "output_type": "execute_result"
    }
   ],
   "source": [
    "obj_certi.course_price"
   ]
  },
  {
   "cell_type": "code",
   "execution_count": 15,
   "id": "46797362-7c68-4a34-8d4b-a8fd088d71a7",
   "metadata": {},
   "outputs": [],
   "source": [
    "obj_certi.course_price = 4000"
   ]
  },
  {
   "cell_type": "code",
   "execution_count": 16,
   "id": "4fe5302e-fef4-44de-a9b9-e7f610b9f68c",
   "metadata": {},
   "outputs": [
    {
     "data": {
      "text/plain": [
       "3200"
      ]
     },
     "execution_count": 16,
     "metadata": {},
     "output_type": "execute_result"
    }
   ],
   "source": [
    "obj_certi.course_price"
   ]
  },
  {
   "cell_type": "code",
   "execution_count": 17,
   "id": "24cb3fd6-f8a6-4198-a645-1008c52d976f",
   "metadata": {},
   "outputs": [],
   "source": [
    "obj_certi.course_price = 2975"
   ]
  },
  {
   "cell_type": "code",
   "execution_count": 18,
   "id": "7943daae-0f20-4db8-9afb-cafc67871ac1",
   "metadata": {},
   "outputs": [
    {
     "data": {
      "text/plain": [
       "2975"
      ]
     },
     "execution_count": 18,
     "metadata": {},
     "output_type": "execute_result"
    }
   ],
   "source": [
    "obj_certi.course_price"
   ]
  },
  {
   "cell_type": "markdown",
   "id": "52e49df2-ac07-4e0b-855e-f1b94f720f5c",
   "metadata": {},
   "source": [
    "Q5.What is method overriding in python? Write a python code to demonstrate method overriding.\n",
    "\n",
    "Ans. Method overloading is the processes of using the same method name with different parameters."
   ]
  },
  {
   "cell_type": "code",
   "execution_count": 19,
   "id": "73562b94-77da-4843-ae39-7aa3734ac460",
   "metadata": {},
   "outputs": [],
   "source": [
    "# class square with method area with 1 parameter length\n",
    "class Square:\n",
    "    def area(self, length):\n",
    "        return length*length\n",
    "\n",
    "# class rectangle with method area with 2 parameters length and width\n",
    "class Rectangle:\n",
    "    def area(self, length, width):\n",
    "        return length*width\n"
   ]
  },
  {
   "cell_type": "code",
   "execution_count": 20,
   "id": "68704da7-4177-49a6-94aa-d61b1f69dafc",
   "metadata": {},
   "outputs": [],
   "source": [
    "obj_squ = Square()"
   ]
  },
  {
   "cell_type": "code",
   "execution_count": 21,
   "id": "043f223e-e25a-4850-946b-7d7666c0ac7b",
   "metadata": {},
   "outputs": [
    {
     "data": {
      "text/plain": [
       "36"
      ]
     },
     "execution_count": 21,
     "metadata": {},
     "output_type": "execute_result"
    }
   ],
   "source": [
    "obj_squ.area(6)"
   ]
  },
  {
   "cell_type": "code",
   "execution_count": 22,
   "id": "8aedc845-ceec-4da7-a254-641e0cc071c4",
   "metadata": {},
   "outputs": [],
   "source": [
    "obj_rec = Rectangle()"
   ]
  },
  {
   "cell_type": "code",
   "execution_count": 23,
   "id": "df48091f-bf0a-4160-a681-6d73b933bf29",
   "metadata": {},
   "outputs": [
    {
     "data": {
      "text/plain": [
       "56"
      ]
     },
     "execution_count": 23,
     "metadata": {},
     "output_type": "execute_result"
    }
   ],
   "source": [
    "obj_rec.area(7,8)"
   ]
  }
 ],
 "metadata": {
  "kernelspec": {
   "display_name": "Python 3 (ipykernel)",
   "language": "python",
   "name": "python3"
  },
  "language_info": {
   "codemirror_mode": {
    "name": "ipython",
    "version": 3
   },
   "file_extension": ".py",
   "mimetype": "text/x-python",
   "name": "python",
   "nbconvert_exporter": "python",
   "pygments_lexer": "ipython3",
   "version": "3.9.12"
  }
 },
 "nbformat": 4,
 "nbformat_minor": 5
}
